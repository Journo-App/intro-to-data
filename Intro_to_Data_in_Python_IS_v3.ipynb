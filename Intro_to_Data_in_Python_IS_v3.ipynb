{
  "nbformat": 4,
  "nbformat_minor": 0,
  "metadata": {
    "colab": {
      "name": "Intro to Data in Python - IS v3.ipynb",
      "provenance": [],
      "collapsed_sections": []
    },
    "kernelspec": {
      "name": "python3",
      "language": "python",
      "display_name": "Python 3"
    },
    "kernel_info": {
      "name": "python3"
    },
    "language_info": {
      "name": "python",
      "version": "3.6.8",
      "mimetype": "text/x-python",
      "codemirror_mode": {
        "name": "ipython",
        "version": 3
      },
      "pygments_lexer": "ipython3",
      "nbconvert_exporter": "python",
      "file_extension": ".py"
    },
    "nteract": {
      "version": "0.15.0"
    }
  },
  "cells": [
    {
      "cell_type": "markdown",
      "metadata": {
        "id": "swftxqBHPEC_",
        "colab_type": "text"
      },
      "source": [
        "# **Intro to Data**\n",
        "### *(using Python)*\n",
        "*Presented by Columbia University Libraries*\n",
        "***\n",
        "\n",
        "Welcome to the Columbia University Library's Intro to Data using Python course! These are our objectives:\n",
        "\n",
        "* Understanding what it *means* to use data\n",
        "* How to think critically and work responsibly with imperfect data\n",
        "* Fundamentals of data wrangling using Pandas\n",
        "* Awareness of Python's statistical and visualization capabilities\n",
        "*   Awareness of available datasets and where to find them\n",
        "* An insatiable desire to learn more about using data!\n",
        "\n",
        "\n",
        "\n",
        "\n"
      ]
    },
    {
      "cell_type": "markdown",
      "metadata": {
        "id": "ID_fhtDzhgGU",
        "colab_type": "text"
      },
      "source": [
        "## **Principles of data analysis**\n",
        "***\n",
        "No matter the context in which you're using data, there will **always** be a few principles you must follow. At the end of the day, you *are* doing science - you are using empirical observations to test hypotheses (and occasionally, to predict the future based on these hypotheses). Therefore, it is important to follow the same principles that guide scientific inquiry. These are in use far beyond academia. Regardless of where you work, whether a tech firm, bank, non-profit, or research institution, your analytical work **must** be:\n",
        "1. Well-documented\n",
        "2. Conscientious in reducing bias (the same way we randomize trials and only collect the data we need to answer a specific question, we have to make sure our data are clean, examined for potential bias, and are suited to the question we want to answer)\n",
        "2. Reproducible (commenting and code sharing are crucial)\n",
        "3. Responsibly and clearly communicated (you've done all the work, and now it's important to get it out in the world! Communicating the results of data analyses can be very difficult, especially to folks who don't have a background in it. It is your responsibility to do the best you can in stating what your research can and can't answer, and to make sure that any communication about the data comes from the data - don't make unfounded leaps, or allow others to)\n",
        "\n",
        "Throughout this guide, you will see a subtitle for each section that shows you the *tool* we are using to perform each part of data analysis. This is to emphasize the greater importance of the *general concepts and principles* of data analysis that are constant across any language or context, rather than the tools used."
      ]
    },
    {
      "cell_type": "markdown",
      "metadata": {
        "id": "MB2Yn8LqTheu",
        "colab_type": "text"
      },
      "source": [
        "## **Getting started**\n",
        "### *(with Google Colab)*\n",
        "\n",
        "Topics to be covered:\n",
        "1. What is Python?\n",
        "2. Why does it matter?\n",
        "3. How can you use Python? (IDEs, notebooks, terminal, Colab)\n",
        "4. What are packages and why do we need them?\n",
        "5. Basic familiarity with CoLab (shareability, power)\n",
        "6. Pitfalls of using CoLab\n",
        "7. Why pandas? Pandas is an open-source library that provides high-performance, easy-to-use data structures and data analysis tools for the Python programming language.\n"
      ]
    },
    {
      "cell_type": "markdown",
      "metadata": {
        "id": "oLjqf2bkU-YM",
        "colab_type": "text"
      },
      "source": [
        "## **Data import and quality checking** \n",
        "### *(with Pandas)*\n",
        "***\n",
        "Topics to be covered, all demoed using NYC taxi dataset:\n",
        "\n",
        "1. Importing csv, txt, excel files\n",
        "2. Looking at (an extract) of the dataset (.head), assumptions about the data, and the data type for different fields + characteristics of each type\n",
        "3. Data quality checking\n",
        "4. The most common ways in which data are imperfect (missing data, duplication, truncation, misleading names)\n",
        "5. Larger questions you should ask about your data (how was this collected? Is this helpful in answering the question I already have, or should I come up with new questions I can ask this particular data with confidence?)\n"
      ]
    },
    {
      "cell_type": "code",
      "metadata": {
        "id": "y9ry0bDNm6MP",
        "colab_type": "code",
        "colab": {}
      },
      "source": [
        "# Import packages\n",
        "import pandas as pd\n",
        "import matplotlib.pyplot as plt\n",
        "import statsmodels as sm"
      ],
      "execution_count": 0,
      "outputs": []
    },
    {
      "cell_type": "code",
      "metadata": {
        "id": "DxsrTWusy_HO",
        "colab_type": "code",
        "colab": {}
      },
      "source": [
        "# Run following so that we can see all outputs, not just last\n",
        "from IPython.core.interactiveshell import InteractiveShell\n",
        "InteractiveShell.ast_node_interactivity = \"all\""
      ],
      "execution_count": 0,
      "outputs": []
    },
    {
      "cell_type": "code",
      "metadata": {
        "id": "gDLaJoo2mzgS",
        "colab_type": "code",
        "outputId": "914f95d4-5c3a-4a65-e653-2a1187adfc7f",
        "colab": {
          "base_uri": "https://localhost:8080/",
          "height": 204
        }
      },
      "source": [
        "# Import file from github\n",
        "url = \"https://raw.githubusercontent.com/columbia-university-libraries-data-club/intro-to-data/master/taxi-data.csv\"\n",
        "taxi = pd.read_csv(url, index_col =  None, parse_dates = [\"pickup\", \"dropoff\"])\n",
        "taxi.head()"
      ],
      "execution_count": 104,
      "outputs": [
        {
          "output_type": "execute_result",
          "data": {
            "text/html": [
              "<div>\n",
              "<style scoped>\n",
              "    .dataframe tbody tr th:only-of-type {\n",
              "        vertical-align: middle;\n",
              "    }\n",
              "\n",
              "    .dataframe tbody tr th {\n",
              "        vertical-align: top;\n",
              "    }\n",
              "\n",
              "    .dataframe thead th {\n",
              "        text-align: right;\n",
              "    }\n",
              "</style>\n",
              "<table border=\"1\" class=\"dataframe\">\n",
              "  <thead>\n",
              "    <tr style=\"text-align: right;\">\n",
              "      <th></th>\n",
              "      <th>pickup</th>\n",
              "      <th>dropoff</th>\n",
              "      <th>passengers</th>\n",
              "      <th>distance</th>\n",
              "      <th>fare</th>\n",
              "      <th>tip</th>\n",
              "      <th>total</th>\n",
              "      <th>payment_type</th>\n",
              "      <th>payment</th>\n",
              "    </tr>\n",
              "  </thead>\n",
              "  <tbody>\n",
              "    <tr>\n",
              "      <th>0</th>\n",
              "      <td>2018-02-01 00:39:38</td>\n",
              "      <td>2018-02-01 00:39:41</td>\n",
              "      <td>1</td>\n",
              "      <td>0.00</td>\n",
              "      <td>20.0</td>\n",
              "      <td>3.00</td>\n",
              "      <td>23.00</td>\n",
              "      <td>1</td>\n",
              "      <td>Credit Card</td>\n",
              "    </tr>\n",
              "    <tr>\n",
              "      <th>1</th>\n",
              "      <td>2018-02-01 00:58:28</td>\n",
              "      <td>2018-02-01 01:05:35</td>\n",
              "      <td>5</td>\n",
              "      <td>1.60</td>\n",
              "      <td>7.5</td>\n",
              "      <td>0.88</td>\n",
              "      <td>9.68</td>\n",
              "      <td>1</td>\n",
              "      <td>Credit Card</td>\n",
              "    </tr>\n",
              "    <tr>\n",
              "      <th>2</th>\n",
              "      <td>2018-02-01 00:56:05</td>\n",
              "      <td>2018-02-01 01:18:54</td>\n",
              "      <td>1</td>\n",
              "      <td>9.60</td>\n",
              "      <td>28.5</td>\n",
              "      <td>5.96</td>\n",
              "      <td>35.76</td>\n",
              "      <td>1</td>\n",
              "      <td>Credit Card</td>\n",
              "    </tr>\n",
              "    <tr>\n",
              "      <th>3</th>\n",
              "      <td>2018-02-01 00:12:40</td>\n",
              "      <td>2018-02-01 00:15:50</td>\n",
              "      <td>1</td>\n",
              "      <td>0.73</td>\n",
              "      <td>4.5</td>\n",
              "      <td>0.00</td>\n",
              "      <td>5.80</td>\n",
              "      <td>2</td>\n",
              "      <td>Cash</td>\n",
              "    </tr>\n",
              "    <tr>\n",
              "      <th>4</th>\n",
              "      <td>2018-02-01 00:45:18</td>\n",
              "      <td>2018-02-01 00:51:56</td>\n",
              "      <td>2</td>\n",
              "      <td>1.87</td>\n",
              "      <td>8.0</td>\n",
              "      <td>0.00</td>\n",
              "      <td>9.30</td>\n",
              "      <td>2</td>\n",
              "      <td>Cash</td>\n",
              "    </tr>\n",
              "  </tbody>\n",
              "</table>\n",
              "</div>"
            ],
            "text/plain": [
              "               pickup             dropoff  ...  payment_type      payment\n",
              "0 2018-02-01 00:39:38 2018-02-01 00:39:41  ...             1  Credit Card\n",
              "1 2018-02-01 00:58:28 2018-02-01 01:05:35  ...             1  Credit Card\n",
              "2 2018-02-01 00:56:05 2018-02-01 01:18:54  ...             1  Credit Card\n",
              "3 2018-02-01 00:12:40 2018-02-01 00:15:50  ...             2         Cash\n",
              "4 2018-02-01 00:45:18 2018-02-01 00:51:56  ...             2         Cash\n",
              "\n",
              "[5 rows x 9 columns]"
            ]
          },
          "metadata": {
            "tags": []
          },
          "execution_count": 104
        }
      ]
    },
    {
      "cell_type": "markdown",
      "metadata": {
        "id": "G-9QiacE1vP1",
        "colab_type": "text"
      },
      "source": [
        "We have our dataset loaded! Before we dive in, let's go over a few key data structures in python and pandas:"
      ]
    },
    {
      "cell_type": "code",
      "metadata": {
        "id": "aT1yP4nx14sV",
        "colab_type": "code",
        "colab": {}
      },
      "source": [
        "# Lists\n",
        "listex = [1, 2, 3, 4, \"python\", \"makes\", \"rory\", \"roar\"]\n",
        "listex[1]\n",
        "listex[0:5]\n",
        "\n",
        "# Iterable"
      ],
      "execution_count": 0,
      "outputs": []
    },
    {
      "cell_type": "code",
      "metadata": {
        "id": "KzAJwd9c14YM",
        "colab_type": "code",
        "colab": {}
      },
      "source": [
        "# Dictionaries\n",
        "dictex = {\"rory\" : \"the lion\", \"columbia\": \"the university\", \"founded\": 1754}\n",
        "dictex[\"founded\"]\n",
        "dictex[\"rory\"]\n",
        "\n",
        "# Iterable"
      ],
      "execution_count": 0,
      "outputs": []
    },
    {
      "cell_type": "code",
      "metadata": {
        "id": "x2zRbRN-132g",
        "colab_type": "code",
        "colab": {}
      },
      "source": [
        "# Pandas dataframe\n",
        "type(taxi)\n",
        "\n",
        "# Think excel"
      ],
      "execution_count": 0,
      "outputs": []
    },
    {
      "cell_type": "code",
      "metadata": {
        "id": "-FHXH800zUgY",
        "colab_type": "code",
        "outputId": "15296d9d-6f31-43ee-eb92-7c50fa5c5556",
        "colab": {
          "base_uri": "https://localhost:8080/",
          "height": 34
        }
      },
      "source": [
        "# Pandas series\n",
        "type(taxi[\"pickup\"])\n",
        "\n",
        "# Column"
      ],
      "execution_count": 0,
      "outputs": [
        {
          "output_type": "execute_result",
          "data": {
            "text/plain": [
              "pandas.core.series.Series"
            ]
          },
          "metadata": {
            "tags": []
          },
          "execution_count": 14
        }
      ]
    },
    {
      "cell_type": "code",
      "metadata": {
        "id": "_zI4o4KapiSn",
        "colab_type": "code",
        "outputId": "f84852f9-0a9a-40b7-caec-ad1fa35a55d6",
        "colab": {
          "base_uri": "https://localhost:8080/",
          "height": 187
        }
      },
      "source": [
        "# What are the data types of our fields?\n",
        "taxi.dtypes"
      ],
      "execution_count": 0,
      "outputs": [
        {
          "output_type": "execute_result",
          "data": {
            "text/plain": [
              "pickup          datetime64[ns]\n",
              "dropoff         datetime64[ns]\n",
              "passengers               int64\n",
              "distance               float64\n",
              "fare                   float64\n",
              "tip                    float64\n",
              "total                  float64\n",
              "payment_type             int64\n",
              "payment                 object\n",
              "dtype: object"
            ]
          },
          "metadata": {
            "tags": []
          },
          "execution_count": 15
        }
      ]
    },
    {
      "cell_type": "code",
      "metadata": {
        "id": "_4uCYWd9pxrR",
        "colab_type": "code",
        "outputId": "59c2cff3-600f-452e-b1e9-abd9d6304e15",
        "colab": {
          "base_uri": "https://localhost:8080/",
          "height": 503
        }
      },
      "source": [
        "# Descriptions\n",
        "taxi.describe(include = \"all\")"
      ],
      "execution_count": 0,
      "outputs": [
        {
          "output_type": "execute_result",
          "data": {
            "text/html": [
              "<div>\n",
              "<style scoped>\n",
              "    .dataframe tbody tr th:only-of-type {\n",
              "        vertical-align: middle;\n",
              "    }\n",
              "\n",
              "    .dataframe tbody tr th {\n",
              "        vertical-align: top;\n",
              "    }\n",
              "\n",
              "    .dataframe thead th {\n",
              "        text-align: right;\n",
              "    }\n",
              "</style>\n",
              "<table border=\"1\" class=\"dataframe\">\n",
              "  <thead>\n",
              "    <tr style=\"text-align: right;\">\n",
              "      <th></th>\n",
              "      <th>pickup</th>\n",
              "      <th>dropoff</th>\n",
              "      <th>passengers</th>\n",
              "      <th>distance</th>\n",
              "      <th>fare</th>\n",
              "      <th>tip</th>\n",
              "      <th>total</th>\n",
              "      <th>payment_type</th>\n",
              "      <th>payment</th>\n",
              "    </tr>\n",
              "  </thead>\n",
              "  <tbody>\n",
              "    <tr>\n",
              "      <th>count</th>\n",
              "      <td>769940</td>\n",
              "      <td>769940</td>\n",
              "      <td>769940.000000</td>\n",
              "      <td>769940.000000</td>\n",
              "      <td>769940.000000</td>\n",
              "      <td>769940.000000</td>\n",
              "      <td>769940.000000</td>\n",
              "      <td>769940.000000</td>\n",
              "      <td>769940</td>\n",
              "    </tr>\n",
              "    <tr>\n",
              "      <th>unique</th>\n",
              "      <td>634690</td>\n",
              "      <td>633445</td>\n",
              "      <td>NaN</td>\n",
              "      <td>NaN</td>\n",
              "      <td>NaN</td>\n",
              "      <td>NaN</td>\n",
              "      <td>NaN</td>\n",
              "      <td>NaN</td>\n",
              "      <td>5</td>\n",
              "    </tr>\n",
              "    <tr>\n",
              "      <th>top</th>\n",
              "      <td>2018-02-03 15:15:19</td>\n",
              "      <td>2018-02-25 00:00:00</td>\n",
              "      <td>NaN</td>\n",
              "      <td>NaN</td>\n",
              "      <td>NaN</td>\n",
              "      <td>NaN</td>\n",
              "      <td>NaN</td>\n",
              "      <td>NaN</td>\n",
              "      <td>Credit Card</td>\n",
              "    </tr>\n",
              "    <tr>\n",
              "      <th>freq</th>\n",
              "      <td>16</td>\n",
              "      <td>46</td>\n",
              "      <td>NaN</td>\n",
              "      <td>NaN</td>\n",
              "      <td>NaN</td>\n",
              "      <td>NaN</td>\n",
              "      <td>NaN</td>\n",
              "      <td>NaN</td>\n",
              "      <td>420696</td>\n",
              "    </tr>\n",
              "    <tr>\n",
              "      <th>first</th>\n",
              "      <td>2008-12-31 20:31:59</td>\n",
              "      <td>2008-12-31 20:44:03</td>\n",
              "      <td>NaN</td>\n",
              "      <td>NaN</td>\n",
              "      <td>NaN</td>\n",
              "      <td>NaN</td>\n",
              "      <td>NaN</td>\n",
              "      <td>NaN</td>\n",
              "      <td>NaN</td>\n",
              "    </tr>\n",
              "    <tr>\n",
              "      <th>last</th>\n",
              "      <td>2081-06-24 17:40:37</td>\n",
              "      <td>2081-06-24 18:42:47</td>\n",
              "      <td>NaN</td>\n",
              "      <td>NaN</td>\n",
              "      <td>NaN</td>\n",
              "      <td>NaN</td>\n",
              "      <td>NaN</td>\n",
              "      <td>NaN</td>\n",
              "      <td>NaN</td>\n",
              "    </tr>\n",
              "    <tr>\n",
              "      <th>mean</th>\n",
              "      <td>NaN</td>\n",
              "      <td>NaN</td>\n",
              "      <td>1.356391</td>\n",
              "      <td>2.725387</td>\n",
              "      <td>11.882591</td>\n",
              "      <td>1.040139</td>\n",
              "      <td>14.156694</td>\n",
              "      <td>1.462002</td>\n",
              "      <td>NaN</td>\n",
              "    </tr>\n",
              "    <tr>\n",
              "      <th>std</th>\n",
              "      <td>NaN</td>\n",
              "      <td>NaN</td>\n",
              "      <td>1.033778</td>\n",
              "      <td>2.882936</td>\n",
              "      <td>9.745038</td>\n",
              "      <td>1.821846</td>\n",
              "      <td>10.707214</td>\n",
              "      <td>0.519115</td>\n",
              "      <td>NaN</td>\n",
              "    </tr>\n",
              "    <tr>\n",
              "      <th>min</th>\n",
              "      <td>NaN</td>\n",
              "      <td>NaN</td>\n",
              "      <td>0.000000</td>\n",
              "      <td>0.000000</td>\n",
              "      <td>-400.000000</td>\n",
              "      <td>-14.190000</td>\n",
              "      <td>-400.000000</td>\n",
              "      <td>1.000000</td>\n",
              "      <td>NaN</td>\n",
              "    </tr>\n",
              "    <tr>\n",
              "      <th>25%</th>\n",
              "      <td>NaN</td>\n",
              "      <td>NaN</td>\n",
              "      <td>1.000000</td>\n",
              "      <td>1.000000</td>\n",
              "      <td>6.000000</td>\n",
              "      <td>0.000000</td>\n",
              "      <td>7.800000</td>\n",
              "      <td>1.000000</td>\n",
              "      <td>NaN</td>\n",
              "    </tr>\n",
              "    <tr>\n",
              "      <th>50%</th>\n",
              "      <td>NaN</td>\n",
              "      <td>NaN</td>\n",
              "      <td>1.000000</td>\n",
              "      <td>1.750000</td>\n",
              "      <td>9.000000</td>\n",
              "      <td>0.000000</td>\n",
              "      <td>11.150000</td>\n",
              "      <td>1.000000</td>\n",
              "      <td>NaN</td>\n",
              "    </tr>\n",
              "    <tr>\n",
              "      <th>75%</th>\n",
              "      <td>NaN</td>\n",
              "      <td>NaN</td>\n",
              "      <td>1.000000</td>\n",
              "      <td>3.370000</td>\n",
              "      <td>14.500000</td>\n",
              "      <td>1.760000</td>\n",
              "      <td>17.000000</td>\n",
              "      <td>2.000000</td>\n",
              "      <td>NaN</td>\n",
              "    </tr>\n",
              "    <tr>\n",
              "      <th>max</th>\n",
              "      <td>NaN</td>\n",
              "      <td>NaN</td>\n",
              "      <td>9.000000</td>\n",
              "      <td>120.470000</td>\n",
              "      <td>2624.500000</td>\n",
              "      <td>104.000000</td>\n",
              "      <td>2626.300000</td>\n",
              "      <td>5.000000</td>\n",
              "      <td>NaN</td>\n",
              "    </tr>\n",
              "  </tbody>\n",
              "</table>\n",
              "</div>"
            ],
            "text/plain": [
              "                     pickup              dropoff  ...   payment_type      payment\n",
              "count                769940               769940  ...  769940.000000       769940\n",
              "unique               634690               633445  ...            NaN            5\n",
              "top     2018-02-03 15:15:19  2018-02-25 00:00:00  ...            NaN  Credit Card\n",
              "freq                     16                   46  ...            NaN       420696\n",
              "first   2008-12-31 20:31:59  2008-12-31 20:44:03  ...            NaN          NaN\n",
              "last    2081-06-24 17:40:37  2081-06-24 18:42:47  ...            NaN          NaN\n",
              "mean                    NaN                  NaN  ...       1.462002          NaN\n",
              "std                     NaN                  NaN  ...       0.519115          NaN\n",
              "min                     NaN                  NaN  ...       1.000000          NaN\n",
              "25%                     NaN                  NaN  ...       1.000000          NaN\n",
              "50%                     NaN                  NaN  ...       1.000000          NaN\n",
              "75%                     NaN                  NaN  ...       2.000000          NaN\n",
              "max                     NaN                  NaN  ...       5.000000          NaN\n",
              "\n",
              "[13 rows x 9 columns]"
            ]
          },
          "metadata": {
            "tags": []
          },
          "execution_count": 17
        }
      ]
    },
    {
      "cell_type": "markdown",
      "metadata": {
        "id": "AGCR74meuBx6",
        "colab_type": "text"
      },
      "source": [
        "**What are some observations you can make from the table above?**\n",
        "\n",
        "Let's go column by column:\n",
        "\n",
        "*Pick-up and drop-off dates and times:*\n",
        "* The earliest date in our dataset is 12/31/2008\n",
        "* The maximum date looks unrealistic (2081?)\n",
        "* There are nearly 770,000 rows in our dataset, but only about 630,000 unique pickup and dropoff values. Why? Why would there be fewer unique dropoff than pickup date values?\n",
        "\n",
        "*Moving onto passengers and distance:*\n",
        "* What does having zero passengers mean?\n",
        "* What does having zero distance mean?\n",
        "* Are these distance values intuitive?\n",
        "\n",
        "*Fares and payment:*\n",
        "* Why would there be a negative number for a fare or tip?\n",
        "* What does the column \"payment type\" mean here, and why is it numeric?\n",
        "* There was a $2,600 cab ride? Was that a mistake?\n",
        "\n",
        "Luckily, we can take a deeper dive into questions!\n",
        "\n",
        "Let's start with pick-up and drop-off times:\n",
        "\n",
        "\n",
        "\n"
      ]
    },
    {
      "cell_type": "code",
      "metadata": {
        "id": "78kTBEk9UxXR",
        "colab_type": "code",
        "outputId": "74777abf-7a21-4d10-fa95-d81bcdcd52f6",
        "colab": {
          "base_uri": "https://localhost:8080/",
          "height": 302
        }
      },
      "source": [
        "# Start with a simple histogram\n",
        "taxi[\"pickup_month\"] = taxi[\"pickup\"].dt.month\n",
        "\n",
        "# First with months\n",
        "taxi.groupby(\"pickup_month\")[\"pickup\"].count().plot(kind=\"bar\")"
      ],
      "execution_count": 0,
      "outputs": [
        {
          "output_type": "execute_result",
          "data": {
            "text/plain": [
              "<matplotlib.axes._subplots.AxesSubplot at 0x7effeccc33c8>"
            ]
          },
          "metadata": {
            "tags": []
          },
          "execution_count": 72
        },
        {
          "output_type": "display_data",
          "data": {
            "image/png": "[encoded data removed]",
            "text/plain": [
              "<Figure size 432x288 with 1 Axes>"
            ]
          },
          "metadata": {
            "tags": []
          }
        }
      ]
    },
    {
      "cell_type": "code",
      "metadata": {
        "id": "I_eyvzQxgztS",
        "colab_type": "code",
        "colab": {}
      },
      "source": [
        "# Then with dates\n",
        "taxi.groupby(\"pickup\")[\"pickup\"].count().plot(kind = \"bar\")"
      ],
      "execution_count": 0,
      "outputs": []
    },
    {
      "cell_type": "markdown",
      "metadata": {
        "id": "hmx5nPccVe2i",
        "colab_type": "text"
      },
      "source": [
        "You'll notice that the above takes *forever*. Why is this?\n",
        "\n",
        "Because we're working on 770,000 rows of data! And this particular visualization is trying to account for every single point, which in this case is every single pickup date and time. This is one of the first hurdles you will likely experience when working with large and interesting datasets. So, what can you do to analyze the data more quickly?\n",
        "\n",
        "* Subset the data\n",
        "* Select a random sample\n",
        "* Use only the information needed \n",
        "\n",
        "But almost all of these require working with the data in a form other than the one it's in already. This brings us to:"
      ]
    },
    {
      "cell_type": "markdown",
      "metadata": {
        "id": "8DmgVLScgceb",
        "colab_type": "text"
      },
      "source": [
        "## **Data wrangling**\n",
        "### *(using Pandas)*\n",
        "***\n",
        "Topics to be covered:\n",
        "1. Math and string operations between columns \n",
        "2. Summarizing\n",
        "aside: + you can and should define your own functions (we said that code should be reproducible - if others are using your code or looking at it, functions are a good way to keep things in order)\n",
        "3. Reshaping\n",
        "4. Merging (will need to find another dataset to merge with)\n",
        "\n"
      ]
    },
    {
      "cell_type": "code",
      "metadata": {
        "id": "Mv6D3DGzYKGh",
        "colab_type": "code",
        "outputId": "e014b139-2095-4741-abd3-789ee42aab57",
        "colab": {
          "base_uri": "https://localhost:8080/",
          "height": 471
        }
      },
      "source": [
        "# Let's go ahead and first try to look at just the year of the pickup to see \n",
        "# what the deal with those 2081 dates is:\n",
        "\n",
        "taxi[\"pickup_year\"] = taxi[\"pickup\"].dt.year\n",
        "taxi.head()\n",
        "taxi[\"pickup_year\"].plot(kind = \"hist\")"
      ],
      "execution_count": 105,
      "outputs": [
        {
          "output_type": "execute_result",
          "data": {
            "text/html": [
              "<div>\n",
              "<style scoped>\n",
              "    .dataframe tbody tr th:only-of-type {\n",
              "        vertical-align: middle;\n",
              "    }\n",
              "\n",
              "    .dataframe tbody tr th {\n",
              "        vertical-align: top;\n",
              "    }\n",
              "\n",
              "    .dataframe thead th {\n",
              "        text-align: right;\n",
              "    }\n",
              "</style>\n",
              "<table border=\"1\" class=\"dataframe\">\n",
              "  <thead>\n",
              "    <tr style=\"text-align: right;\">\n",
              "      <th></th>\n",
              "      <th>pickup</th>\n",
              "      <th>dropoff</th>\n",
              "      <th>passengers</th>\n",
              "      <th>distance</th>\n",
              "      <th>fare</th>\n",
              "      <th>tip</th>\n",
              "      <th>total</th>\n",
              "      <th>payment_type</th>\n",
              "      <th>payment</th>\n",
              "      <th>pickup_year</th>\n",
              "    </tr>\n",
              "  </thead>\n",
              "  <tbody>\n",
              "    <tr>\n",
              "      <th>0</th>\n",
              "      <td>2018-02-01 00:39:38</td>\n",
              "      <td>2018-02-01 00:39:41</td>\n",
              "      <td>1</td>\n",
              "      <td>0.00</td>\n",
              "      <td>20.0</td>\n",
              "      <td>3.00</td>\n",
              "      <td>23.00</td>\n",
              "      <td>1</td>\n",
              "      <td>Credit Card</td>\n",
              "      <td>2018</td>\n",
              "    </tr>\n",
              "    <tr>\n",
              "      <th>1</th>\n",
              "      <td>2018-02-01 00:58:28</td>\n",
              "      <td>2018-02-01 01:05:35</td>\n",
              "      <td>5</td>\n",
              "      <td>1.60</td>\n",
              "      <td>7.5</td>\n",
              "      <td>0.88</td>\n",
              "      <td>9.68</td>\n",
              "      <td>1</td>\n",
              "      <td>Credit Card</td>\n",
              "      <td>2018</td>\n",
              "    </tr>\n",
              "    <tr>\n",
              "      <th>2</th>\n",
              "      <td>2018-02-01 00:56:05</td>\n",
              "      <td>2018-02-01 01:18:54</td>\n",
              "      <td>1</td>\n",
              "      <td>9.60</td>\n",
              "      <td>28.5</td>\n",
              "      <td>5.96</td>\n",
              "      <td>35.76</td>\n",
              "      <td>1</td>\n",
              "      <td>Credit Card</td>\n",
              "      <td>2018</td>\n",
              "    </tr>\n",
              "    <tr>\n",
              "      <th>3</th>\n",
              "      <td>2018-02-01 00:12:40</td>\n",
              "      <td>2018-02-01 00:15:50</td>\n",
              "      <td>1</td>\n",
              "      <td>0.73</td>\n",
              "      <td>4.5</td>\n",
              "      <td>0.00</td>\n",
              "      <td>5.80</td>\n",
              "      <td>2</td>\n",
              "      <td>Cash</td>\n",
              "      <td>2018</td>\n",
              "    </tr>\n",
              "    <tr>\n",
              "      <th>4</th>\n",
              "      <td>2018-02-01 00:45:18</td>\n",
              "      <td>2018-02-01 00:51:56</td>\n",
              "      <td>2</td>\n",
              "      <td>1.87</td>\n",
              "      <td>8.0</td>\n",
              "      <td>0.00</td>\n",
              "      <td>9.30</td>\n",
              "      <td>2</td>\n",
              "      <td>Cash</td>\n",
              "      <td>2018</td>\n",
              "    </tr>\n",
              "  </tbody>\n",
              "</table>\n",
              "</div>"
            ],
            "text/plain": [
              "               pickup             dropoff  ...      payment  pickup_year\n",
              "0 2018-02-01 00:39:38 2018-02-01 00:39:41  ...  Credit Card         2018\n",
              "1 2018-02-01 00:58:28 2018-02-01 01:05:35  ...  Credit Card         2018\n",
              "2 2018-02-01 00:56:05 2018-02-01 01:18:54  ...  Credit Card         2018\n",
              "3 2018-02-01 00:12:40 2018-02-01 00:15:50  ...         Cash         2018\n",
              "4 2018-02-01 00:45:18 2018-02-01 00:51:56  ...         Cash         2018\n",
              "\n",
              "[5 rows x 10 columns]"
            ]
          },
          "metadata": {
            "tags": []
          },
          "execution_count": 105
        },
        {
          "output_type": "execute_result",
          "data": {
            "text/plain": [
              "<matplotlib.axes._subplots.AxesSubplot at 0x7eff07ad5518>"
            ]
          },
          "metadata": {
            "tags": []
          },
          "execution_count": 105
        },
        {
          "output_type": "display_data",
          "data": {
            "image/png": "[encoded data removed]",
            "text/plain": [
              "<Figure size 432x288 with 1 Axes>"
            ]
          },
          "metadata": {
            "tags": []
          }
        }
      ]
    },
    {
      "cell_type": "code",
      "metadata": {
        "id": "3hIoXrL8aDqr",
        "colab_type": "code",
        "outputId": "b746dd24-409d-48f8-c005-338ec0566d76",
        "colab": {
          "base_uri": "https://localhost:8080/",
          "height": 282
        }
      },
      "source": [
        "# So, we can see that most of these entries seem to be near the 2018 range, but that there must be \n",
        "# a few entries that are near 2080 that are causing the graph to stretch out.\n",
        "# So, we will try to look only at those rows where year > 2018 and see what we get.\n",
        "\n",
        "# Let's go ahead and first try to look at just the year of the pickup to see \n",
        "# what the deal with those 2081 dates is:\n",
        "\n",
        "taxi[taxi[\"pickup_year\"] > 2018][\"pickup_year\"].plot(kind = \"hist\")\n"
      ],
      "execution_count": 106,
      "outputs": [
        {
          "output_type": "execute_result",
          "data": {
            "text/plain": [
              "<matplotlib.axes._subplots.AxesSubplot at 0x7eff06935358>"
            ]
          },
          "metadata": {
            "tags": []
          },
          "execution_count": 106
        },
        {
          "output_type": "display_data",
          "data": {
            "image/png": "[encoded data removed]",
            "text/plain": [
              "<Figure size 432x288 with 1 Axes>"
            ]
          },
          "metadata": {
            "tags": []
          }
        }
      ]
    },
    {
      "cell_type": "code",
      "metadata": {
        "id": "Khm0PIzva6ha",
        "colab_type": "code",
        "outputId": "ed521321-82b8-4666-b8f8-b48ffb549cc8",
        "colab": {
          "base_uri": "https://localhost:8080/",
          "height": 97
        }
      },
      "source": [
        "# Interesting! It looks like there's just one row here that has a strange date.\n",
        "# Let's pull it up.\n",
        "\n",
        "taxi[taxi[\"pickup_year\"] > 2018].head()\n"
      ],
      "execution_count": 0,
      "outputs": [
        {
          "output_type": "execute_result",
          "data": {
            "text/html": [
              "<div>\n",
              "<style scoped>\n",
              "    .dataframe tbody tr th:only-of-type {\n",
              "        vertical-align: middle;\n",
              "    }\n",
              "\n",
              "    .dataframe tbody tr th {\n",
              "        vertical-align: top;\n",
              "    }\n",
              "\n",
              "    .dataframe thead th {\n",
              "        text-align: right;\n",
              "    }\n",
              "</style>\n",
              "<table border=\"1\" class=\"dataframe\">\n",
              "  <thead>\n",
              "    <tr style=\"text-align: right;\">\n",
              "      <th></th>\n",
              "      <th>pickup</th>\n",
              "      <th>dropoff</th>\n",
              "      <th>passengers</th>\n",
              "      <th>distance</th>\n",
              "      <th>fare</th>\n",
              "      <th>tip</th>\n",
              "      <th>total</th>\n",
              "      <th>payment_type</th>\n",
              "      <th>payment</th>\n",
              "      <th>pickup_month</th>\n",
              "      <th>pickup_year</th>\n",
              "    </tr>\n",
              "  </thead>\n",
              "  <tbody>\n",
              "    <tr>\n",
              "      <th>734222</th>\n",
              "      <td>2081-06-24 17:40:37</td>\n",
              "      <td>2081-06-24 18:42:47</td>\n",
              "      <td>1</td>\n",
              "      <td>16.95</td>\n",
              "      <td>52.0</td>\n",
              "      <td>0.0</td>\n",
              "      <td>55.96</td>\n",
              "      <td>1</td>\n",
              "      <td>Credit Card</td>\n",
              "      <td>6</td>\n",
              "      <td>2081</td>\n",
              "    </tr>\n",
              "  </tbody>\n",
              "</table>\n",
              "</div>"
            ],
            "text/plain": [
              "                    pickup             dropoff  ...  pickup_month  pickup_year\n",
              "734222 2081-06-24 17:40:37 2081-06-24 18:42:47  ...             6         2081\n",
              "\n",
              "[1 rows x 11 columns]"
            ]
          },
          "metadata": {
            "tags": []
          },
          "execution_count": 76
        }
      ]
    },
    {
      "cell_type": "markdown",
      "metadata": {
        "id": "h9uAKyrMbPJd",
        "colab_type": "text"
      },
      "source": [
        "Other than the date, it doesn't look like there's anything wrong with this row. What do we do?\n",
        "* Fix the date, or\n",
        "* Drop the row?\n",
        "\n",
        "Since we have about 770,000 other rows, let's drop this one."
      ]
    },
    {
      "cell_type": "code",
      "metadata": {
        "id": "4aOF_MNhbZ_h",
        "colab_type": "code",
        "outputId": "6dfba2fa-276a-4185-ac30-cce392e8bd91",
        "colab": {
          "base_uri": "https://localhost:8080/",
          "height": 594
        }
      },
      "source": [
        "taxi = taxi[taxi[\"pickup_year\"] < 2019]\n",
        "taxi.describe(include = \"all\")"
      ],
      "execution_count": 107,
      "outputs": [
        {
          "output_type": "execute_result",
          "data": {
            "text/html": [
              "<div>\n",
              "<style scoped>\n",
              "    .dataframe tbody tr th:only-of-type {\n",
              "        vertical-align: middle;\n",
              "    }\n",
              "\n",
              "    .dataframe tbody tr th {\n",
              "        vertical-align: top;\n",
              "    }\n",
              "\n",
              "    .dataframe thead th {\n",
              "        text-align: right;\n",
              "    }\n",
              "</style>\n",
              "<table border=\"1\" class=\"dataframe\">\n",
              "  <thead>\n",
              "    <tr style=\"text-align: right;\">\n",
              "      <th></th>\n",
              "      <th>pickup</th>\n",
              "      <th>dropoff</th>\n",
              "      <th>passengers</th>\n",
              "      <th>distance</th>\n",
              "      <th>fare</th>\n",
              "      <th>tip</th>\n",
              "      <th>total</th>\n",
              "      <th>payment_type</th>\n",
              "      <th>payment</th>\n",
              "      <th>pickup_year</th>\n",
              "    </tr>\n",
              "  </thead>\n",
              "  <tbody>\n",
              "    <tr>\n",
              "      <th>count</th>\n",
              "      <td>769939</td>\n",
              "      <td>769939</td>\n",
              "      <td>769939.000000</td>\n",
              "      <td>769939.000000</td>\n",
              "      <td>769939.000000</td>\n",
              "      <td>769939.000000</td>\n",
              "      <td>769939.000000</td>\n",
              "      <td>769939.000000</td>\n",
              "      <td>769939</td>\n",
              "      <td>769939.000000</td>\n",
              "    </tr>\n",
              "    <tr>\n",
              "      <th>unique</th>\n",
              "      <td>634689</td>\n",
              "      <td>633444</td>\n",
              "      <td>NaN</td>\n",
              "      <td>NaN</td>\n",
              "      <td>NaN</td>\n",
              "      <td>NaN</td>\n",
              "      <td>NaN</td>\n",
              "      <td>NaN</td>\n",
              "      <td>5</td>\n",
              "      <td>NaN</td>\n",
              "    </tr>\n",
              "    <tr>\n",
              "      <th>top</th>\n",
              "      <td>2018-02-03 15:15:19</td>\n",
              "      <td>2018-02-25 00:00:00</td>\n",
              "      <td>NaN</td>\n",
              "      <td>NaN</td>\n",
              "      <td>NaN</td>\n",
              "      <td>NaN</td>\n",
              "      <td>NaN</td>\n",
              "      <td>NaN</td>\n",
              "      <td>Credit Card</td>\n",
              "      <td>NaN</td>\n",
              "    </tr>\n",
              "    <tr>\n",
              "      <th>freq</th>\n",
              "      <td>16</td>\n",
              "      <td>46</td>\n",
              "      <td>NaN</td>\n",
              "      <td>NaN</td>\n",
              "      <td>NaN</td>\n",
              "      <td>NaN</td>\n",
              "      <td>NaN</td>\n",
              "      <td>NaN</td>\n",
              "      <td>420695</td>\n",
              "      <td>NaN</td>\n",
              "    </tr>\n",
              "    <tr>\n",
              "      <th>first</th>\n",
              "      <td>2008-12-31 20:31:59</td>\n",
              "      <td>2008-12-31 20:44:03</td>\n",
              "      <td>NaN</td>\n",
              "      <td>NaN</td>\n",
              "      <td>NaN</td>\n",
              "      <td>NaN</td>\n",
              "      <td>NaN</td>\n",
              "      <td>NaN</td>\n",
              "      <td>NaN</td>\n",
              "      <td>NaN</td>\n",
              "    </tr>\n",
              "    <tr>\n",
              "      <th>last</th>\n",
              "      <td>2018-12-02 10:38:49</td>\n",
              "      <td>2018-12-02 10:38:50</td>\n",
              "      <td>NaN</td>\n",
              "      <td>NaN</td>\n",
              "      <td>NaN</td>\n",
              "      <td>NaN</td>\n",
              "      <td>NaN</td>\n",
              "      <td>NaN</td>\n",
              "      <td>NaN</td>\n",
              "      <td>NaN</td>\n",
              "    </tr>\n",
              "    <tr>\n",
              "      <th>mean</th>\n",
              "      <td>NaN</td>\n",
              "      <td>NaN</td>\n",
              "      <td>1.356392</td>\n",
              "      <td>2.725368</td>\n",
              "      <td>11.882539</td>\n",
              "      <td>1.040140</td>\n",
              "      <td>14.156639</td>\n",
              "      <td>1.462003</td>\n",
              "      <td>NaN</td>\n",
              "      <td>2017.998400</td>\n",
              "    </tr>\n",
              "    <tr>\n",
              "      <th>std</th>\n",
              "      <td>NaN</td>\n",
              "      <td>NaN</td>\n",
              "      <td>1.033779</td>\n",
              "      <td>2.882892</td>\n",
              "      <td>9.744937</td>\n",
              "      <td>1.821847</td>\n",
              "      <td>10.707115</td>\n",
              "      <td>0.519115</td>\n",
              "      <td>NaN</td>\n",
              "      <td>0.117511</td>\n",
              "    </tr>\n",
              "    <tr>\n",
              "      <th>min</th>\n",
              "      <td>NaN</td>\n",
              "      <td>NaN</td>\n",
              "      <td>0.000000</td>\n",
              "      <td>0.000000</td>\n",
              "      <td>-400.000000</td>\n",
              "      <td>-14.190000</td>\n",
              "      <td>-400.000000</td>\n",
              "      <td>1.000000</td>\n",
              "      <td>NaN</td>\n",
              "      <td>2008.000000</td>\n",
              "    </tr>\n",
              "    <tr>\n",
              "      <th>25%</th>\n",
              "      <td>NaN</td>\n",
              "      <td>NaN</td>\n",
              "      <td>1.000000</td>\n",
              "      <td>1.000000</td>\n",
              "      <td>6.000000</td>\n",
              "      <td>0.000000</td>\n",
              "      <td>7.800000</td>\n",
              "      <td>1.000000</td>\n",
              "      <td>NaN</td>\n",
              "      <td>2018.000000</td>\n",
              "    </tr>\n",
              "    <tr>\n",
              "      <th>50%</th>\n",
              "      <td>NaN</td>\n",
              "      <td>NaN</td>\n",
              "      <td>1.000000</td>\n",
              "      <td>1.750000</td>\n",
              "      <td>9.000000</td>\n",
              "      <td>0.000000</td>\n",
              "      <td>11.150000</td>\n",
              "      <td>1.000000</td>\n",
              "      <td>NaN</td>\n",
              "      <td>2018.000000</td>\n",
              "    </tr>\n",
              "    <tr>\n",
              "      <th>75%</th>\n",
              "      <td>NaN</td>\n",
              "      <td>NaN</td>\n",
              "      <td>1.000000</td>\n",
              "      <td>3.370000</td>\n",
              "      <td>14.500000</td>\n",
              "      <td>1.760000</td>\n",
              "      <td>17.000000</td>\n",
              "      <td>2.000000</td>\n",
              "      <td>NaN</td>\n",
              "      <td>2018.000000</td>\n",
              "    </tr>\n",
              "    <tr>\n",
              "      <th>max</th>\n",
              "      <td>NaN</td>\n",
              "      <td>NaN</td>\n",
              "      <td>9.000000</td>\n",
              "      <td>120.470000</td>\n",
              "      <td>2624.500000</td>\n",
              "      <td>104.000000</td>\n",
              "      <td>2626.300000</td>\n",
              "      <td>5.000000</td>\n",
              "      <td>NaN</td>\n",
              "      <td>2018.000000</td>\n",
              "    </tr>\n",
              "  </tbody>\n",
              "</table>\n",
              "</div>"
            ],
            "text/plain": [
              "                     pickup              dropoff  ...      payment    pickup_year\n",
              "count                769939               769939  ...       769939  769939.000000\n",
              "unique               634689               633444  ...            5            NaN\n",
              "top     2018-02-03 15:15:19  2018-02-25 00:00:00  ...  Credit Card            NaN\n",
              "freq                     16                   46  ...       420695            NaN\n",
              "first   2008-12-31 20:31:59  2008-12-31 20:44:03  ...          NaN            NaN\n",
              "last    2018-12-02 10:38:49  2018-12-02 10:38:50  ...          NaN            NaN\n",
              "mean                    NaN                  NaN  ...          NaN    2017.998400\n",
              "std                     NaN                  NaN  ...          NaN       0.117511\n",
              "min                     NaN                  NaN  ...          NaN    2008.000000\n",
              "25%                     NaN                  NaN  ...          NaN    2018.000000\n",
              "50%                     NaN                  NaN  ...          NaN    2018.000000\n",
              "75%                     NaN                  NaN  ...          NaN    2018.000000\n",
              "max                     NaN                  NaN  ...          NaN    2018.000000\n",
              "\n",
              "[13 rows x 10 columns]"
            ]
          },
          "metadata": {
            "tags": []
          },
          "execution_count": 107
        }
      ]
    },
    {
      "cell_type": "code",
      "metadata": {
        "id": "BEv3_GvmbvcG",
        "colab_type": "code",
        "outputId": "48a54583-b46b-4478-b244-8ac650c3fb7d",
        "colab": {
          "base_uri": "https://localhost:8080/",
          "height": 284
        }
      },
      "source": [
        "taxi[\"pickup_year\"].plot(kind = \"hist\")"
      ],
      "execution_count": 0,
      "outputs": [
        {
          "output_type": "execute_result",
          "data": {
            "text/plain": [
              "<matplotlib.axes._subplots.AxesSubplot at 0x7effeb5f8320>"
            ]
          },
          "metadata": {
            "tags": []
          },
          "execution_count": 78
        },
        {
          "output_type": "display_data",
          "data": {
            "image/png": "[encoded data removed]",
            "text/plain": [
              "<Figure size 432x288 with 1 Axes>"
            ]
          },
          "metadata": {
            "tags": []
          }
        }
      ]
    },
    {
      "cell_type": "markdown",
      "metadata": {
        "id": "cTN0iXKob5OX",
        "colab_type": "text"
      },
      "source": [
        "Wait a minute, it looks like the minimum year is 2008, but that the majority of trips are in 2018. What's going on here?"
      ]
    },
    {
      "cell_type": "code",
      "metadata": {
        "id": "V92OyM3dcA8x",
        "colab_type": "code",
        "outputId": "45c21ce6-f816-46e2-9c7d-a1dd4622f991",
        "colab": {
          "base_uri": "https://localhost:8080/",
          "height": 289
        }
      },
      "source": [
        "taxi[taxi[\"pickup_year\"] < 2018].head()"
      ],
      "execution_count": 0,
      "outputs": [
        {
          "output_type": "execute_result",
          "data": {
            "text/html": [
              "<div>\n",
              "<style scoped>\n",
              "    .dataframe tbody tr th:only-of-type {\n",
              "        vertical-align: middle;\n",
              "    }\n",
              "\n",
              "    .dataframe tbody tr th {\n",
              "        vertical-align: top;\n",
              "    }\n",
              "\n",
              "    .dataframe thead th {\n",
              "        text-align: right;\n",
              "    }\n",
              "</style>\n",
              "<table border=\"1\" class=\"dataframe\">\n",
              "  <thead>\n",
              "    <tr style=\"text-align: right;\">\n",
              "      <th></th>\n",
              "      <th>pickup</th>\n",
              "      <th>dropoff</th>\n",
              "      <th>passengers</th>\n",
              "      <th>distance</th>\n",
              "      <th>fare</th>\n",
              "      <th>tip</th>\n",
              "      <th>total</th>\n",
              "      <th>payment_type</th>\n",
              "      <th>payment</th>\n",
              "      <th>pickup_month</th>\n",
              "      <th>pickup_year</th>\n",
              "    </tr>\n",
              "  </thead>\n",
              "  <tbody>\n",
              "    <tr>\n",
              "      <th>176917</th>\n",
              "      <td>2009-01-01 10:30:58</td>\n",
              "      <td>2009-01-01 11:27:08</td>\n",
              "      <td>1</td>\n",
              "      <td>31.73</td>\n",
              "      <td>84.5</td>\n",
              "      <td>0.00</td>\n",
              "      <td>87.46</td>\n",
              "      <td>1</td>\n",
              "      <td>Credit Card</td>\n",
              "      <td>1</td>\n",
              "      <td>2009</td>\n",
              "    </tr>\n",
              "    <tr>\n",
              "      <th>183630</th>\n",
              "      <td>2009-01-01 00:02:57</td>\n",
              "      <td>2009-01-01 15:29:58</td>\n",
              "      <td>1</td>\n",
              "      <td>4.36</td>\n",
              "      <td>15.5</td>\n",
              "      <td>2.44</td>\n",
              "      <td>20.69</td>\n",
              "      <td>1</td>\n",
              "      <td>Credit Card</td>\n",
              "      <td>1</td>\n",
              "      <td>2009</td>\n",
              "    </tr>\n",
              "    <tr>\n",
              "      <th>205807</th>\n",
              "      <td>2010-09-23 01:01:27</td>\n",
              "      <td>2010-09-23 12:47:19</td>\n",
              "      <td>1</td>\n",
              "      <td>3.90</td>\n",
              "      <td>18.0</td>\n",
              "      <td>0.00</td>\n",
              "      <td>18.80</td>\n",
              "      <td>2</td>\n",
              "      <td>Cash</td>\n",
              "      <td>9</td>\n",
              "      <td>2010</td>\n",
              "    </tr>\n",
              "    <tr>\n",
              "      <th>228185</th>\n",
              "      <td>2010-09-23 00:56:57</td>\n",
              "      <td>2010-09-23 01:03:03</td>\n",
              "      <td>1</td>\n",
              "      <td>0.72</td>\n",
              "      <td>4.5</td>\n",
              "      <td>0.00</td>\n",
              "      <td>5.30</td>\n",
              "      <td>2</td>\n",
              "      <td>Cash</td>\n",
              "      <td>9</td>\n",
              "      <td>2010</td>\n",
              "    </tr>\n",
              "    <tr>\n",
              "      <th>271674</th>\n",
              "      <td>2010-09-23 01:28:02</td>\n",
              "      <td>2010-09-23 01:36:15</td>\n",
              "      <td>1</td>\n",
              "      <td>1.03</td>\n",
              "      <td>7.0</td>\n",
              "      <td>0.00</td>\n",
              "      <td>7.80</td>\n",
              "      <td>2</td>\n",
              "      <td>Cash</td>\n",
              "      <td>9</td>\n",
              "      <td>2010</td>\n",
              "    </tr>\n",
              "  </tbody>\n",
              "</table>\n",
              "</div>"
            ],
            "text/plain": [
              "                    pickup             dropoff  ...  pickup_month  pickup_year\n",
              "176917 2009-01-01 10:30:58 2009-01-01 11:27:08  ...             1         2009\n",
              "183630 2009-01-01 00:02:57 2009-01-01 15:29:58  ...             1         2009\n",
              "205807 2010-09-23 01:01:27 2010-09-23 12:47:19  ...             9         2010\n",
              "228185 2010-09-23 00:56:57 2010-09-23 01:03:03  ...             9         2010\n",
              "271674 2010-09-23 01:28:02 2010-09-23 01:36:15  ...             9         2010\n",
              "\n",
              "[5 rows x 11 columns]"
            ]
          },
          "metadata": {
            "tags": []
          },
          "execution_count": 79
        }
      ]
    },
    {
      "cell_type": "markdown",
      "metadata": {
        "id": "VImP6fFxcOvq",
        "colab_type": "text"
      },
      "source": [
        "Okay...there are a lot of these, compared to just one entry from 2081. However, this is not something we could have figured out by the histogram, and we don't know how many such rows there are. How can we get a sense of how many entries are from before 2018?\n",
        "* Make a plot (tried above) \n",
        "* List the rows (tried above)\n",
        "* Count!"
      ]
    },
    {
      "cell_type": "code",
      "metadata": {
        "id": "EM-cRZo7cr_5",
        "colab_type": "code",
        "outputId": "ecabfc5f-dfb4-4be3-a25e-a8de46c44a83",
        "colab": {
          "base_uri": "https://localhost:8080/",
          "height": 221
        }
      },
      "source": [
        "# Count rows where year < 2018\n",
        "taxi[taxi[\"pickup_year\"] < 2018].count()"
      ],
      "execution_count": 0,
      "outputs": [
        {
          "output_type": "execute_result",
          "data": {
            "text/plain": [
              "pickup          144\n",
              "dropoff         144\n",
              "passengers      144\n",
              "distance        144\n",
              "fare            144\n",
              "tip             144\n",
              "total           144\n",
              "payment_type    144\n",
              "payment         144\n",
              "pickup_month    144\n",
              "pickup_year     144\n",
              "dtype: int64"
            ]
          },
          "metadata": {
            "tags": []
          },
          "execution_count": 80
        }
      ]
    },
    {
      "cell_type": "markdown",
      "metadata": {
        "id": "TD-RAhpdc6RI",
        "colab_type": "text"
      },
      "source": [
        "Whoa, there are 144 such rows! How do we proceed?\n",
        "* We can drop them\n",
        "* We can investigate them further to see if there's something in common with them\n",
        "* We can change the year and assume 2018\n",
        "\n",
        "Let's investigate!"
      ]
    },
    {
      "cell_type": "code",
      "metadata": {
        "id": "Qv0FYHzXoC6a",
        "colab_type": "code",
        "outputId": "75f8d066-1f32-476b-c685-d418523345aa",
        "colab": {
          "base_uri": "https://localhost:8080/",
          "height": 282
        }
      },
      "source": [
        "# What are the summary stats of these rows and do they differ from the other data?\n",
        "taxi[\"pickup_year\"].unique() \n",
        "\n",
        "\n",
        "taxi[taxi[\"pickup_year\"] < 2018][\"pickup_year\"].plot(kind = \"hist\")"
      ],
      "execution_count": 0,
      "outputs": [
        {
          "output_type": "execute_result",
          "data": {
            "text/plain": [
              "array([2018, 2009, 2010, 2008])"
            ]
          },
          "metadata": {
            "tags": []
          },
          "execution_count": 81
        },
        {
          "output_type": "execute_result",
          "data": {
            "text/plain": [
              "<matplotlib.axes._subplots.AxesSubplot at 0x7effeb5ce160>"
            ]
          },
          "metadata": {
            "tags": []
          },
          "execution_count": 81
        },
        {
          "output_type": "display_data",
          "data": {
            "image/png": "[encoded data removed]",
            "text/plain": [
              "<Figure size 432x288 with 1 Axes>"
            ]
          },
          "metadata": {
            "tags": []
          }
        }
      ]
    },
    {
      "cell_type": "code",
      "metadata": {
        "id": "LY5neMuGoySX",
        "colab_type": "code",
        "outputId": "18104f45-e13c-469b-c349-ed9aa454a576",
        "colab": {
          "base_uri": "https://localhost:8080/",
          "height": 554
        }
      },
      "source": [
        "# Describe these early-year rows\n",
        "taxi[taxi[\"pickup_year\"] < 2018].describe(include = \"all\")"
      ],
      "execution_count": 0,
      "outputs": [
        {
          "output_type": "execute_result",
          "data": {
            "text/html": [
              "<div>\n",
              "<style scoped>\n",
              "    .dataframe tbody tr th:only-of-type {\n",
              "        vertical-align: middle;\n",
              "    }\n",
              "\n",
              "    .dataframe tbody tr th {\n",
              "        vertical-align: top;\n",
              "    }\n",
              "\n",
              "    .dataframe thead th {\n",
              "        text-align: right;\n",
              "    }\n",
              "</style>\n",
              "<table border=\"1\" class=\"dataframe\">\n",
              "  <thead>\n",
              "    <tr style=\"text-align: right;\">\n",
              "      <th></th>\n",
              "      <th>pickup</th>\n",
              "      <th>dropoff</th>\n",
              "      <th>passengers</th>\n",
              "      <th>distance</th>\n",
              "      <th>fare</th>\n",
              "      <th>tip</th>\n",
              "      <th>total</th>\n",
              "      <th>payment_type</th>\n",
              "      <th>payment</th>\n",
              "      <th>pickup_month</th>\n",
              "      <th>pickup_year</th>\n",
              "    </tr>\n",
              "  </thead>\n",
              "  <tbody>\n",
              "    <tr>\n",
              "      <th>count</th>\n",
              "      <td>144</td>\n",
              "      <td>144</td>\n",
              "      <td>144.000000</td>\n",
              "      <td>144.000000</td>\n",
              "      <td>144.000000</td>\n",
              "      <td>144.000000</td>\n",
              "      <td>144.000000</td>\n",
              "      <td>144.000000</td>\n",
              "      <td>144</td>\n",
              "      <td>144.000000</td>\n",
              "      <td>144.000000</td>\n",
              "    </tr>\n",
              "    <tr>\n",
              "      <th>unique</th>\n",
              "      <td>142</td>\n",
              "      <td>143</td>\n",
              "      <td>NaN</td>\n",
              "      <td>NaN</td>\n",
              "      <td>NaN</td>\n",
              "      <td>NaN</td>\n",
              "      <td>NaN</td>\n",
              "      <td>NaN</td>\n",
              "      <td>3</td>\n",
              "      <td>NaN</td>\n",
              "      <td>NaN</td>\n",
              "    </tr>\n",
              "    <tr>\n",
              "      <th>top</th>\n",
              "      <td>2010-09-23 01:11:49</td>\n",
              "      <td>2009-01-01 00:10:05</td>\n",
              "      <td>NaN</td>\n",
              "      <td>NaN</td>\n",
              "      <td>NaN</td>\n",
              "      <td>NaN</td>\n",
              "      <td>NaN</td>\n",
              "      <td>NaN</td>\n",
              "      <td>Cash</td>\n",
              "      <td>NaN</td>\n",
              "      <td>NaN</td>\n",
              "    </tr>\n",
              "    <tr>\n",
              "      <th>freq</th>\n",
              "      <td>2</td>\n",
              "      <td>2</td>\n",
              "      <td>NaN</td>\n",
              "      <td>NaN</td>\n",
              "      <td>NaN</td>\n",
              "      <td>NaN</td>\n",
              "      <td>NaN</td>\n",
              "      <td>NaN</td>\n",
              "      <td>114</td>\n",
              "      <td>NaN</td>\n",
              "      <td>NaN</td>\n",
              "    </tr>\n",
              "    <tr>\n",
              "      <th>first</th>\n",
              "      <td>2008-12-31 20:31:59</td>\n",
              "      <td>2008-12-31 20:44:03</td>\n",
              "      <td>NaN</td>\n",
              "      <td>NaN</td>\n",
              "      <td>NaN</td>\n",
              "      <td>NaN</td>\n",
              "      <td>NaN</td>\n",
              "      <td>NaN</td>\n",
              "      <td>NaN</td>\n",
              "      <td>NaN</td>\n",
              "      <td>NaN</td>\n",
              "    </tr>\n",
              "    <tr>\n",
              "      <th>last</th>\n",
              "      <td>2010-09-23 23:41:53</td>\n",
              "      <td>2010-09-24 00:07:05</td>\n",
              "      <td>NaN</td>\n",
              "      <td>NaN</td>\n",
              "      <td>NaN</td>\n",
              "      <td>NaN</td>\n",
              "      <td>NaN</td>\n",
              "      <td>NaN</td>\n",
              "      <td>NaN</td>\n",
              "      <td>NaN</td>\n",
              "      <td>NaN</td>\n",
              "    </tr>\n",
              "    <tr>\n",
              "      <th>mean</th>\n",
              "      <td>NaN</td>\n",
              "      <td>NaN</td>\n",
              "      <td>1.305556</td>\n",
              "      <td>3.002014</td>\n",
              "      <td>12.493056</td>\n",
              "      <td>0.514861</td>\n",
              "      <td>14.499653</td>\n",
              "      <td>1.805556</td>\n",
              "      <td>NaN</td>\n",
              "      <td>8.381944</td>\n",
              "      <td>2009.444444</td>\n",
              "    </tr>\n",
              "    <tr>\n",
              "      <th>std</th>\n",
              "      <td>NaN</td>\n",
              "      <td>NaN</td>\n",
              "      <td>0.804513</td>\n",
              "      <td>3.915271</td>\n",
              "      <td>10.883038</td>\n",
              "      <td>1.617231</td>\n",
              "      <td>11.753528</td>\n",
              "      <td>0.414388</td>\n",
              "      <td>NaN</td>\n",
              "      <td>3.359563</td>\n",
              "      <td>0.808848</td>\n",
              "    </tr>\n",
              "    <tr>\n",
              "      <th>min</th>\n",
              "      <td>NaN</td>\n",
              "      <td>NaN</td>\n",
              "      <td>1.000000</td>\n",
              "      <td>0.010000</td>\n",
              "      <td>-4.500000</td>\n",
              "      <td>0.000000</td>\n",
              "      <td>-6.300000</td>\n",
              "      <td>1.000000</td>\n",
              "      <td>NaN</td>\n",
              "      <td>1.000000</td>\n",
              "      <td>2008.000000</td>\n",
              "    </tr>\n",
              "    <tr>\n",
              "      <th>25%</th>\n",
              "      <td>NaN</td>\n",
              "      <td>NaN</td>\n",
              "      <td>1.000000</td>\n",
              "      <td>1.002500</td>\n",
              "      <td>6.375000</td>\n",
              "      <td>0.000000</td>\n",
              "      <td>7.800000</td>\n",
              "      <td>2.000000</td>\n",
              "      <td>NaN</td>\n",
              "      <td>9.000000</td>\n",
              "      <td>2009.000000</td>\n",
              "    </tr>\n",
              "    <tr>\n",
              "      <th>50%</th>\n",
              "      <td>NaN</td>\n",
              "      <td>NaN</td>\n",
              "      <td>1.000000</td>\n",
              "      <td>1.715000</td>\n",
              "      <td>9.000000</td>\n",
              "      <td>0.000000</td>\n",
              "      <td>10.680000</td>\n",
              "      <td>2.000000</td>\n",
              "      <td>NaN</td>\n",
              "      <td>9.000000</td>\n",
              "      <td>2010.000000</td>\n",
              "    </tr>\n",
              "    <tr>\n",
              "      <th>75%</th>\n",
              "      <td>NaN</td>\n",
              "      <td>NaN</td>\n",
              "      <td>1.000000</td>\n",
              "      <td>3.877500</td>\n",
              "      <td>15.625000</td>\n",
              "      <td>0.000000</td>\n",
              "      <td>17.300000</td>\n",
              "      <td>2.000000</td>\n",
              "      <td>NaN</td>\n",
              "      <td>9.000000</td>\n",
              "      <td>2010.000000</td>\n",
              "    </tr>\n",
              "    <tr>\n",
              "      <th>max</th>\n",
              "      <td>NaN</td>\n",
              "      <td>NaN</td>\n",
              "      <td>5.000000</td>\n",
              "      <td>31.730000</td>\n",
              "      <td>84.500000</td>\n",
              "      <td>10.980000</td>\n",
              "      <td>87.460000</td>\n",
              "      <td>3.000000</td>\n",
              "      <td>NaN</td>\n",
              "      <td>12.000000</td>\n",
              "      <td>2010.000000</td>\n",
              "    </tr>\n",
              "  </tbody>\n",
              "</table>\n",
              "</div>"
            ],
            "text/plain": [
              "                     pickup              dropoff  ...  pickup_month  pickup_year\n",
              "count                   144                  144  ...    144.000000   144.000000\n",
              "unique                  142                  143  ...           NaN          NaN\n",
              "top     2010-09-23 01:11:49  2009-01-01 00:10:05  ...           NaN          NaN\n",
              "freq                      2                    2  ...           NaN          NaN\n",
              "first   2008-12-31 20:31:59  2008-12-31 20:44:03  ...           NaN          NaN\n",
              "last    2010-09-23 23:41:53  2010-09-24 00:07:05  ...           NaN          NaN\n",
              "mean                    NaN                  NaN  ...      8.381944  2009.444444\n",
              "std                     NaN                  NaN  ...      3.359563     0.808848\n",
              "min                     NaN                  NaN  ...      1.000000  2008.000000\n",
              "25%                     NaN                  NaN  ...      9.000000  2009.000000\n",
              "50%                     NaN                  NaN  ...      9.000000  2010.000000\n",
              "75%                     NaN                  NaN  ...      9.000000  2010.000000\n",
              "max                     NaN                  NaN  ...     12.000000  2010.000000\n",
              "\n",
              "[13 rows x 11 columns]"
            ]
          },
          "metadata": {
            "tags": []
          },
          "execution_count": 82
        }
      ]
    },
    {
      "cell_type": "code",
      "metadata": {
        "id": "HgCRUCVTo4Wo",
        "colab_type": "code",
        "outputId": "50c9cdd8-b136-4768-8cc3-60078d93f092",
        "colab": {
          "base_uri": "https://localhost:8080/",
          "height": 574
        }
      },
      "source": [
        "# Compare with rows from 2018\n",
        "taxi[taxi[\"pickup_year\"] >= 2018].describe(include = \"all\")"
      ],
      "execution_count": 0,
      "outputs": [
        {
          "output_type": "execute_result",
          "data": {
            "text/html": [
              "<div>\n",
              "<style scoped>\n",
              "    .dataframe tbody tr th:only-of-type {\n",
              "        vertical-align: middle;\n",
              "    }\n",
              "\n",
              "    .dataframe tbody tr th {\n",
              "        vertical-align: top;\n",
              "    }\n",
              "\n",
              "    .dataframe thead th {\n",
              "        text-align: right;\n",
              "    }\n",
              "</style>\n",
              "<table border=\"1\" class=\"dataframe\">\n",
              "  <thead>\n",
              "    <tr style=\"text-align: right;\">\n",
              "      <th></th>\n",
              "      <th>pickup</th>\n",
              "      <th>dropoff</th>\n",
              "      <th>passengers</th>\n",
              "      <th>distance</th>\n",
              "      <th>fare</th>\n",
              "      <th>tip</th>\n",
              "      <th>total</th>\n",
              "      <th>payment_type</th>\n",
              "      <th>payment</th>\n",
              "      <th>pickup_month</th>\n",
              "      <th>pickup_year</th>\n",
              "    </tr>\n",
              "  </thead>\n",
              "  <tbody>\n",
              "    <tr>\n",
              "      <th>count</th>\n",
              "      <td>769795</td>\n",
              "      <td>769795</td>\n",
              "      <td>769795.000000</td>\n",
              "      <td>769795.000000</td>\n",
              "      <td>769795.000000</td>\n",
              "      <td>769795.000000</td>\n",
              "      <td>769795.000000</td>\n",
              "      <td>769795.000000</td>\n",
              "      <td>769795</td>\n",
              "      <td>769795.000000</td>\n",
              "      <td>769795.0</td>\n",
              "    </tr>\n",
              "    <tr>\n",
              "      <th>unique</th>\n",
              "      <td>634547</td>\n",
              "      <td>633301</td>\n",
              "      <td>NaN</td>\n",
              "      <td>NaN</td>\n",
              "      <td>NaN</td>\n",
              "      <td>NaN</td>\n",
              "      <td>NaN</td>\n",
              "      <td>NaN</td>\n",
              "      <td>5</td>\n",
              "      <td>NaN</td>\n",
              "      <td>NaN</td>\n",
              "    </tr>\n",
              "    <tr>\n",
              "      <th>top</th>\n",
              "      <td>2018-02-03 15:15:19</td>\n",
              "      <td>2018-02-26 00:00:00</td>\n",
              "      <td>NaN</td>\n",
              "      <td>NaN</td>\n",
              "      <td>NaN</td>\n",
              "      <td>NaN</td>\n",
              "      <td>NaN</td>\n",
              "      <td>NaN</td>\n",
              "      <td>Credit Card</td>\n",
              "      <td>NaN</td>\n",
              "      <td>NaN</td>\n",
              "    </tr>\n",
              "    <tr>\n",
              "      <th>freq</th>\n",
              "      <td>16</td>\n",
              "      <td>46</td>\n",
              "      <td>NaN</td>\n",
              "      <td>NaN</td>\n",
              "      <td>NaN</td>\n",
              "      <td>NaN</td>\n",
              "      <td>NaN</td>\n",
              "      <td>NaN</td>\n",
              "      <td>420666</td>\n",
              "      <td>NaN</td>\n",
              "      <td>NaN</td>\n",
              "    </tr>\n",
              "    <tr>\n",
              "      <th>first</th>\n",
              "      <td>2018-01-31 16:45:38</td>\n",
              "      <td>2018-01-31 17:00:59</td>\n",
              "      <td>NaN</td>\n",
              "      <td>NaN</td>\n",
              "      <td>NaN</td>\n",
              "      <td>NaN</td>\n",
              "      <td>NaN</td>\n",
              "      <td>NaN</td>\n",
              "      <td>NaN</td>\n",
              "      <td>NaN</td>\n",
              "      <td>NaN</td>\n",
              "    </tr>\n",
              "    <tr>\n",
              "      <th>last</th>\n",
              "      <td>2018-12-02 10:38:49</td>\n",
              "      <td>2018-12-02 10:38:50</td>\n",
              "      <td>NaN</td>\n",
              "      <td>NaN</td>\n",
              "      <td>NaN</td>\n",
              "      <td>NaN</td>\n",
              "      <td>NaN</td>\n",
              "      <td>NaN</td>\n",
              "      <td>NaN</td>\n",
              "      <td>NaN</td>\n",
              "      <td>NaN</td>\n",
              "    </tr>\n",
              "    <tr>\n",
              "      <th>mean</th>\n",
              "      <td>NaN</td>\n",
              "      <td>NaN</td>\n",
              "      <td>1.356401</td>\n",
              "      <td>2.725317</td>\n",
              "      <td>11.882425</td>\n",
              "      <td>1.040238</td>\n",
              "      <td>14.156575</td>\n",
              "      <td>1.461939</td>\n",
              "      <td>NaN</td>\n",
              "      <td>2.000221</td>\n",
              "      <td>2018.0</td>\n",
              "    </tr>\n",
              "    <tr>\n",
              "      <th>std</th>\n",
              "      <td>NaN</td>\n",
              "      <td>NaN</td>\n",
              "      <td>1.033817</td>\n",
              "      <td>2.882665</td>\n",
              "      <td>9.744716</td>\n",
              "      <td>1.821870</td>\n",
              "      <td>10.706917</td>\n",
              "      <td>0.519111</td>\n",
              "      <td>NaN</td>\n",
              "      <td>0.035825</td>\n",
              "      <td>0.0</td>\n",
              "    </tr>\n",
              "    <tr>\n",
              "      <th>min</th>\n",
              "      <td>NaN</td>\n",
              "      <td>NaN</td>\n",
              "      <td>0.000000</td>\n",
              "      <td>0.000000</td>\n",
              "      <td>-400.000000</td>\n",
              "      <td>-14.190000</td>\n",
              "      <td>-400.000000</td>\n",
              "      <td>1.000000</td>\n",
              "      <td>NaN</td>\n",
              "      <td>1.000000</td>\n",
              "      <td>2018.0</td>\n",
              "    </tr>\n",
              "    <tr>\n",
              "      <th>25%</th>\n",
              "      <td>NaN</td>\n",
              "      <td>NaN</td>\n",
              "      <td>1.000000</td>\n",
              "      <td>1.000000</td>\n",
              "      <td>6.000000</td>\n",
              "      <td>0.000000</td>\n",
              "      <td>7.800000</td>\n",
              "      <td>1.000000</td>\n",
              "      <td>NaN</td>\n",
              "      <td>2.000000</td>\n",
              "      <td>2018.0</td>\n",
              "    </tr>\n",
              "    <tr>\n",
              "      <th>50%</th>\n",
              "      <td>NaN</td>\n",
              "      <td>NaN</td>\n",
              "      <td>1.000000</td>\n",
              "      <td>1.750000</td>\n",
              "      <td>9.000000</td>\n",
              "      <td>0.000000</td>\n",
              "      <td>11.150000</td>\n",
              "      <td>1.000000</td>\n",
              "      <td>NaN</td>\n",
              "      <td>2.000000</td>\n",
              "      <td>2018.0</td>\n",
              "    </tr>\n",
              "    <tr>\n",
              "      <th>75%</th>\n",
              "      <td>NaN</td>\n",
              "      <td>NaN</td>\n",
              "      <td>1.000000</td>\n",
              "      <td>3.370000</td>\n",
              "      <td>14.500000</td>\n",
              "      <td>1.760000</td>\n",
              "      <td>17.000000</td>\n",
              "      <td>2.000000</td>\n",
              "      <td>NaN</td>\n",
              "      <td>2.000000</td>\n",
              "      <td>2018.0</td>\n",
              "    </tr>\n",
              "    <tr>\n",
              "      <th>max</th>\n",
              "      <td>NaN</td>\n",
              "      <td>NaN</td>\n",
              "      <td>9.000000</td>\n",
              "      <td>120.470000</td>\n",
              "      <td>2624.500000</td>\n",
              "      <td>104.000000</td>\n",
              "      <td>2626.300000</td>\n",
              "      <td>5.000000</td>\n",
              "      <td>NaN</td>\n",
              "      <td>12.000000</td>\n",
              "      <td>2018.0</td>\n",
              "    </tr>\n",
              "  </tbody>\n",
              "</table>\n",
              "</div>"
            ],
            "text/plain": [
              "                     pickup              dropoff  ...   pickup_month  pickup_year\n",
              "count                769795               769795  ...  769795.000000     769795.0\n",
              "unique               634547               633301  ...            NaN          NaN\n",
              "top     2018-02-03 15:15:19  2018-02-26 00:00:00  ...            NaN          NaN\n",
              "freq                     16                   46  ...            NaN          NaN\n",
              "first   2018-01-31 16:45:38  2018-01-31 17:00:59  ...            NaN          NaN\n",
              "last    2018-12-02 10:38:49  2018-12-02 10:38:50  ...            NaN          NaN\n",
              "mean                    NaN                  NaN  ...       2.000221       2018.0\n",
              "std                     NaN                  NaN  ...       0.035825          0.0\n",
              "min                     NaN                  NaN  ...       1.000000       2018.0\n",
              "25%                     NaN                  NaN  ...       2.000000       2018.0\n",
              "50%                     NaN                  NaN  ...       2.000000       2018.0\n",
              "75%                     NaN                  NaN  ...       2.000000       2018.0\n",
              "max                     NaN                  NaN  ...      12.000000       2018.0\n",
              "\n",
              "[13 rows x 11 columns]"
            ]
          },
          "metadata": {
            "tags": []
          },
          "execution_count": 83
        }
      ]
    },
    {
      "cell_type": "code",
      "metadata": {
        "id": "SL-LJ_6jpHTF",
        "colab_type": "code",
        "colab": {}
      },
      "source": [
        "# From these basic summarizations (not testing for significance), \n",
        "# it looks like these rows aren't too different from the post-2018 rows - \n",
        "# so it's probably safe to go ahead and drop them.\n",
        "\n",
        "taxi = taxi[taxi[\"pickup_year\"] >= 2018]"
      ],
      "execution_count": 0,
      "outputs": []
    },
    {
      "cell_type": "markdown",
      "metadata": {
        "id": "5IcLnR8-qQ3J",
        "colab_type": "text"
      },
      "source": [
        "Now that we've got the general hang of cleaning data, let's go ahead and clean up the anomalies in passenger number, distance, fare, and payment."
      ]
    },
    {
      "cell_type": "code",
      "metadata": {
        "id": "-9cV-vobqNox",
        "colab_type": "code",
        "outputId": "ec6a6dd8-82df-4877-c7f2-51cc28e88974",
        "colab": {
          "base_uri": "https://localhost:8080/",
          "height": 1000
        }
      },
      "source": [
        "# Cleaning for passengers, distance, fare, and payment\n",
        "taxi.describe()\n",
        "\n",
        "# Cleaning passengers\n",
        "taxi.groupby(\"passengers\")[\"passengers\"].count()\n",
        "\n",
        "# There are a few rides with zero passengers, which seems suspect. Let's drop.\n",
        "# (We could have also investigated what the fare is for these rides:)\n",
        "taxi[taxi[\"passengers\"] == 0][\"fare\"].plot(kind = \"hist\")\n",
        "# This shows that many of these do have some nonzero fare - so they're \n",
        "# definitely suspect, and also irrelevant to the questions we want to ask.\n",
        "taxi = taxi[taxi[\"passengers\"] > 0]\n",
        "taxi.describe()"
      ],
      "execution_count": 109,
      "outputs": [
        {
          "output_type": "execute_result",
          "data": {
            "text/html": [
              "<div>\n",
              "<style scoped>\n",
              "    .dataframe tbody tr th:only-of-type {\n",
              "        vertical-align: middle;\n",
              "    }\n",
              "\n",
              "    .dataframe tbody tr th {\n",
              "        vertical-align: top;\n",
              "    }\n",
              "\n",
              "    .dataframe thead th {\n",
              "        text-align: right;\n",
              "    }\n",
              "</style>\n",
              "<table border=\"1\" class=\"dataframe\">\n",
              "  <thead>\n",
              "    <tr style=\"text-align: right;\">\n",
              "      <th></th>\n",
              "      <th>passengers</th>\n",
              "      <th>distance</th>\n",
              "      <th>fare</th>\n",
              "      <th>tip</th>\n",
              "      <th>total</th>\n",
              "      <th>payment_type</th>\n",
              "      <th>pickup_year</th>\n",
              "    </tr>\n",
              "  </thead>\n",
              "  <tbody>\n",
              "    <tr>\n",
              "      <th>count</th>\n",
              "      <td>769795.000000</td>\n",
              "      <td>769795.000000</td>\n",
              "      <td>769795.000000</td>\n",
              "      <td>769795.000000</td>\n",
              "      <td>769795.000000</td>\n",
              "      <td>769795.000000</td>\n",
              "      <td>769795.0</td>\n",
              "    </tr>\n",
              "    <tr>\n",
              "      <th>mean</th>\n",
              "      <td>1.356401</td>\n",
              "      <td>2.725317</td>\n",
              "      <td>11.882425</td>\n",
              "      <td>1.040238</td>\n",
              "      <td>14.156575</td>\n",
              "      <td>1.461939</td>\n",
              "      <td>2018.0</td>\n",
              "    </tr>\n",
              "    <tr>\n",
              "      <th>std</th>\n",
              "      <td>1.033817</td>\n",
              "      <td>2.882665</td>\n",
              "      <td>9.744716</td>\n",
              "      <td>1.821870</td>\n",
              "      <td>10.706917</td>\n",
              "      <td>0.519111</td>\n",
              "      <td>0.0</td>\n",
              "    </tr>\n",
              "    <tr>\n",
              "      <th>min</th>\n",
              "      <td>0.000000</td>\n",
              "      <td>0.000000</td>\n",
              "      <td>-400.000000</td>\n",
              "      <td>-14.190000</td>\n",
              "      <td>-400.000000</td>\n",
              "      <td>1.000000</td>\n",
              "      <td>2018.0</td>\n",
              "    </tr>\n",
              "    <tr>\n",
              "      <th>25%</th>\n",
              "      <td>1.000000</td>\n",
              "      <td>1.000000</td>\n",
              "      <td>6.000000</td>\n",
              "      <td>0.000000</td>\n",
              "      <td>7.800000</td>\n",
              "      <td>1.000000</td>\n",
              "      <td>2018.0</td>\n",
              "    </tr>\n",
              "    <tr>\n",
              "      <th>50%</th>\n",
              "      <td>1.000000</td>\n",
              "      <td>1.750000</td>\n",
              "      <td>9.000000</td>\n",
              "      <td>0.000000</td>\n",
              "      <td>11.150000</td>\n",
              "      <td>1.000000</td>\n",
              "      <td>2018.0</td>\n",
              "    </tr>\n",
              "    <tr>\n",
              "      <th>75%</th>\n",
              "      <td>1.000000</td>\n",
              "      <td>3.370000</td>\n",
              "      <td>14.500000</td>\n",
              "      <td>1.760000</td>\n",
              "      <td>17.000000</td>\n",
              "      <td>2.000000</td>\n",
              "      <td>2018.0</td>\n",
              "    </tr>\n",
              "    <tr>\n",
              "      <th>max</th>\n",
              "      <td>9.000000</td>\n",
              "      <td>120.470000</td>\n",
              "      <td>2624.500000</td>\n",
              "      <td>104.000000</td>\n",
              "      <td>2626.300000</td>\n",
              "      <td>5.000000</td>\n",
              "      <td>2018.0</td>\n",
              "    </tr>\n",
              "  </tbody>\n",
              "</table>\n",
              "</div>"
            ],
            "text/plain": [
              "          passengers       distance  ...   payment_type  pickup_year\n",
              "count  769795.000000  769795.000000  ...  769795.000000     769795.0\n",
              "mean        1.356401       2.725317  ...       1.461939       2018.0\n",
              "std         1.033817       2.882665  ...       0.519111          0.0\n",
              "min         0.000000       0.000000  ...       1.000000       2018.0\n",
              "25%         1.000000       1.000000  ...       1.000000       2018.0\n",
              "50%         1.000000       1.750000  ...       1.000000       2018.0\n",
              "75%         1.000000       3.370000  ...       2.000000       2018.0\n",
              "max         9.000000     120.470000  ...       5.000000       2018.0\n",
              "\n",
              "[8 rows x 7 columns]"
            ]
          },
          "metadata": {
            "tags": []
          },
          "execution_count": 109
        },
        {
          "output_type": "execute_result",
          "data": {
            "text/plain": [
              "passengers\n",
              "0       764\n",
              "1    650783\n",
              "2     59942\n",
              "3     13122\n",
              "4      5221\n",
              "5     26597\n",
              "6     13335\n",
              "7        13\n",
              "8        14\n",
              "9         4\n",
              "Name: passengers, dtype: int64"
            ]
          },
          "metadata": {
            "tags": []
          },
          "execution_count": 109
        },
        {
          "output_type": "execute_result",
          "data": {
            "text/plain": [
              "<matplotlib.axes._subplots.AxesSubplot at 0x7eff07a860f0>"
            ]
          },
          "metadata": {
            "tags": []
          },
          "execution_count": 109
        },
        {
          "output_type": "execute_result",
          "data": {
            "text/html": [
              "<div>\n",
              "<style scoped>\n",
              "    .dataframe tbody tr th:only-of-type {\n",
              "        vertical-align: middle;\n",
              "    }\n",
              "\n",
              "    .dataframe tbody tr th {\n",
              "        vertical-align: top;\n",
              "    }\n",
              "\n",
              "    .dataframe thead th {\n",
              "        text-align: right;\n",
              "    }\n",
              "</style>\n",
              "<table border=\"1\" class=\"dataframe\">\n",
              "  <thead>\n",
              "    <tr style=\"text-align: right;\">\n",
              "      <th></th>\n",
              "      <th>passengers</th>\n",
              "      <th>distance</th>\n",
              "      <th>fare</th>\n",
              "      <th>tip</th>\n",
              "      <th>total</th>\n",
              "      <th>payment_type</th>\n",
              "      <th>pickup_year</th>\n",
              "    </tr>\n",
              "  </thead>\n",
              "  <tbody>\n",
              "    <tr>\n",
              "      <th>count</th>\n",
              "      <td>769031.000000</td>\n",
              "      <td>769031.000000</td>\n",
              "      <td>769031.000000</td>\n",
              "      <td>769031.000000</td>\n",
              "      <td>769031.000000</td>\n",
              "      <td>769031.000000</td>\n",
              "      <td>769031.0</td>\n",
              "    </tr>\n",
              "    <tr>\n",
              "      <th>mean</th>\n",
              "      <td>1.357749</td>\n",
              "      <td>2.725790</td>\n",
              "      <td>11.883368</td>\n",
              "      <td>1.040389</td>\n",
              "      <td>14.157895</td>\n",
              "      <td>1.461768</td>\n",
              "      <td>2018.0</td>\n",
              "    </tr>\n",
              "    <tr>\n",
              "      <th>std</th>\n",
              "      <td>1.033446</td>\n",
              "      <td>2.882719</td>\n",
              "      <td>9.744868</td>\n",
              "      <td>1.822043</td>\n",
              "      <td>10.707088</td>\n",
              "      <td>0.518883</td>\n",
              "      <td>0.0</td>\n",
              "    </tr>\n",
              "    <tr>\n",
              "      <th>min</th>\n",
              "      <td>1.000000</td>\n",
              "      <td>0.000000</td>\n",
              "      <td>-400.000000</td>\n",
              "      <td>-14.190000</td>\n",
              "      <td>-400.000000</td>\n",
              "      <td>1.000000</td>\n",
              "      <td>2018.0</td>\n",
              "    </tr>\n",
              "    <tr>\n",
              "      <th>25%</th>\n",
              "      <td>1.000000</td>\n",
              "      <td>1.000000</td>\n",
              "      <td>6.000000</td>\n",
              "      <td>0.000000</td>\n",
              "      <td>7.800000</td>\n",
              "      <td>1.000000</td>\n",
              "      <td>2018.0</td>\n",
              "    </tr>\n",
              "    <tr>\n",
              "      <th>50%</th>\n",
              "      <td>1.000000</td>\n",
              "      <td>1.750000</td>\n",
              "      <td>9.000000</td>\n",
              "      <td>0.000000</td>\n",
              "      <td>11.150000</td>\n",
              "      <td>1.000000</td>\n",
              "      <td>2018.0</td>\n",
              "    </tr>\n",
              "    <tr>\n",
              "      <th>75%</th>\n",
              "      <td>1.000000</td>\n",
              "      <td>3.370000</td>\n",
              "      <td>14.500000</td>\n",
              "      <td>1.760000</td>\n",
              "      <td>17.000000</td>\n",
              "      <td>2.000000</td>\n",
              "      <td>2018.0</td>\n",
              "    </tr>\n",
              "    <tr>\n",
              "      <th>max</th>\n",
              "      <td>9.000000</td>\n",
              "      <td>120.470000</td>\n",
              "      <td>2624.500000</td>\n",
              "      <td>104.000000</td>\n",
              "      <td>2626.300000</td>\n",
              "      <td>5.000000</td>\n",
              "      <td>2018.0</td>\n",
              "    </tr>\n",
              "  </tbody>\n",
              "</table>\n",
              "</div>"
            ],
            "text/plain": [
              "          passengers       distance  ...   payment_type  pickup_year\n",
              "count  769031.000000  769031.000000  ...  769031.000000     769031.0\n",
              "mean        1.357749       2.725790  ...       1.461768       2018.0\n",
              "std         1.033446       2.882719  ...       0.518883          0.0\n",
              "min         1.000000       0.000000  ...       1.000000       2018.0\n",
              "25%         1.000000       1.000000  ...       1.000000       2018.0\n",
              "50%         1.000000       1.750000  ...       1.000000       2018.0\n",
              "75%         1.000000       3.370000  ...       2.000000       2018.0\n",
              "max         9.000000     120.470000  ...       5.000000       2018.0\n",
              "\n",
              "[8 rows x 7 columns]"
            ]
          },
          "metadata": {
            "tags": []
          },
          "execution_count": 109
        },
        {
          "output_type": "display_data",
          "data": {
            "image/png": "[encoded data removed]",
            "text/plain": [
              "<Figure size 432x288 with 1 Axes>"
            ]
          },
          "metadata": {
            "tags": []
          }
        }
      ]
    },
    {
      "cell_type": "code",
      "metadata": {
        "id": "a3jgzPCojJld",
        "colab_type": "code",
        "outputId": "525fed1d-c8af-4034-9ba3-e961b7f72d68",
        "colab": {
          "base_uri": "https://localhost:8080/",
          "height": 365
        }
      },
      "source": [
        "# Cleaning for distance, fare, payment\n",
        "taxi.describe()\n",
        "\n",
        "# Remove trips with 0 distance, after checking how many there are\n",
        "# Here, it might be good to have a dummy variable rather than plotting a\n",
        "# histogram or table with all values\n",
        "taxi[\"distance\"].groupby([taxi[\"distance\"] == 0]).count()\n",
        "\n",
        "# Looks like these represent just 7.6k values, let's drop\n",
        "# In another world we could try to interpolate these values using fare,\n",
        "# but these are not relevant to our research question."
      ],
      "execution_count": 0,
      "outputs": [
        {
          "output_type": "execute_result",
          "data": {
            "text/html": [
              "<div>\n",
              "<style scoped>\n",
              "    .dataframe tbody tr th:only-of-type {\n",
              "        vertical-align: middle;\n",
              "    }\n",
              "\n",
              "    .dataframe tbody tr th {\n",
              "        vertical-align: top;\n",
              "    }\n",
              "\n",
              "    .dataframe thead th {\n",
              "        text-align: right;\n",
              "    }\n",
              "</style>\n",
              "<table border=\"1\" class=\"dataframe\">\n",
              "  <thead>\n",
              "    <tr style=\"text-align: right;\">\n",
              "      <th></th>\n",
              "      <th>passengers</th>\n",
              "      <th>distance</th>\n",
              "      <th>fare</th>\n",
              "      <th>tip</th>\n",
              "      <th>total</th>\n",
              "      <th>payment_type</th>\n",
              "      <th>pickup_month</th>\n",
              "      <th>pickup_year</th>\n",
              "    </tr>\n",
              "  </thead>\n",
              "  <tbody>\n",
              "    <tr>\n",
              "      <th>count</th>\n",
              "      <td>769031.000000</td>\n",
              "      <td>769031.000000</td>\n",
              "      <td>769031.000000</td>\n",
              "      <td>769031.000000</td>\n",
              "      <td>769031.000000</td>\n",
              "      <td>769031.000000</td>\n",
              "      <td>769031.000000</td>\n",
              "      <td>769031.0</td>\n",
              "    </tr>\n",
              "    <tr>\n",
              "      <th>mean</th>\n",
              "      <td>1.357749</td>\n",
              "      <td>2.725790</td>\n",
              "      <td>11.883368</td>\n",
              "      <td>1.040389</td>\n",
              "      <td>14.157895</td>\n",
              "      <td>1.461768</td>\n",
              "      <td>2.000221</td>\n",
              "      <td>2018.0</td>\n",
              "    </tr>\n",
              "    <tr>\n",
              "      <th>std</th>\n",
              "      <td>1.033446</td>\n",
              "      <td>2.882719</td>\n",
              "      <td>9.744868</td>\n",
              "      <td>1.822043</td>\n",
              "      <td>10.707088</td>\n",
              "      <td>0.518883</td>\n",
              "      <td>0.035843</td>\n",
              "      <td>0.0</td>\n",
              "    </tr>\n",
              "    <tr>\n",
              "      <th>min</th>\n",
              "      <td>1.000000</td>\n",
              "      <td>0.000000</td>\n",
              "      <td>-400.000000</td>\n",
              "      <td>-14.190000</td>\n",
              "      <td>-400.000000</td>\n",
              "      <td>1.000000</td>\n",
              "      <td>1.000000</td>\n",
              "      <td>2018.0</td>\n",
              "    </tr>\n",
              "    <tr>\n",
              "      <th>25%</th>\n",
              "      <td>1.000000</td>\n",
              "      <td>1.000000</td>\n",
              "      <td>6.000000</td>\n",
              "      <td>0.000000</td>\n",
              "      <td>7.800000</td>\n",
              "      <td>1.000000</td>\n",
              "      <td>2.000000</td>\n",
              "      <td>2018.0</td>\n",
              "    </tr>\n",
              "    <tr>\n",
              "      <th>50%</th>\n",
              "      <td>1.000000</td>\n",
              "      <td>1.750000</td>\n",
              "      <td>9.000000</td>\n",
              "      <td>0.000000</td>\n",
              "      <td>11.150000</td>\n",
              "      <td>1.000000</td>\n",
              "      <td>2.000000</td>\n",
              "      <td>2018.0</td>\n",
              "    </tr>\n",
              "    <tr>\n",
              "      <th>75%</th>\n",
              "      <td>1.000000</td>\n",
              "      <td>3.370000</td>\n",
              "      <td>14.500000</td>\n",
              "      <td>1.760000</td>\n",
              "      <td>17.000000</td>\n",
              "      <td>2.000000</td>\n",
              "      <td>2.000000</td>\n",
              "      <td>2018.0</td>\n",
              "    </tr>\n",
              "    <tr>\n",
              "      <th>max</th>\n",
              "      <td>9.000000</td>\n",
              "      <td>120.470000</td>\n",
              "      <td>2624.500000</td>\n",
              "      <td>104.000000</td>\n",
              "      <td>2626.300000</td>\n",
              "      <td>5.000000</td>\n",
              "      <td>12.000000</td>\n",
              "      <td>2018.0</td>\n",
              "    </tr>\n",
              "  </tbody>\n",
              "</table>\n",
              "</div>"
            ],
            "text/plain": [
              "          passengers       distance  ...   pickup_month  pickup_year\n",
              "count  769031.000000  769031.000000  ...  769031.000000     769031.0\n",
              "mean        1.357749       2.725790  ...       2.000221       2018.0\n",
              "std         1.033446       2.882719  ...       0.035843          0.0\n",
              "min         1.000000       0.000000  ...       1.000000       2018.0\n",
              "25%         1.000000       1.000000  ...       2.000000       2018.0\n",
              "50%         1.000000       1.750000  ...       2.000000       2018.0\n",
              "75%         1.000000       3.370000  ...       2.000000       2018.0\n",
              "max         9.000000     120.470000  ...      12.000000       2018.0\n",
              "\n",
              "[8 rows x 8 columns]"
            ]
          },
          "metadata": {
            "tags": []
          },
          "execution_count": 86
        },
        {
          "output_type": "execute_result",
          "data": {
            "text/plain": [
              "distance\n",
              "False    761375\n",
              "True       7656\n",
              "Name: distance, dtype: int64"
            ]
          },
          "metadata": {
            "tags": []
          },
          "execution_count": 86
        }
      ]
    },
    {
      "cell_type": "code",
      "metadata": {
        "id": "p-Y8feljkwXZ",
        "colab_type": "code",
        "outputId": "2f174019-8ac1-4228-ed74-0898652ee7a9",
        "colab": {
          "base_uri": "https://localhost:8080/",
          "height": 170
        }
      },
      "source": [
        "taxi = taxi[taxi[\"distance\"] > 0]\n",
        "taxi[\"distance\"].describe()"
      ],
      "execution_count": 110,
      "outputs": [
        {
          "output_type": "execute_result",
          "data": {
            "text/plain": [
              "count    761375.000000\n",
              "mean          2.753199\n",
              "std           2.884124\n",
              "min           0.010000\n",
              "25%           1.010000\n",
              "50%           1.770000\n",
              "75%           3.400000\n",
              "max         120.470000\n",
              "Name: distance, dtype: float64"
            ]
          },
          "metadata": {
            "tags": []
          },
          "execution_count": 110
        }
      ]
    },
    {
      "cell_type": "code",
      "metadata": {
        "id": "jaCIiNsnk6hI",
        "colab_type": "code",
        "outputId": "f35aa331-f36e-4a20-c58a-fcf429f9ef7a",
        "colab": {
          "base_uri": "https://localhost:8080/",
          "height": 170
        }
      },
      "source": [
        "# Looks like there is in fact at least one trip that had a distance traveled of \n",
        "# 0.01. Is this reasonable? Should we have used a higher cutoff than 0?\n",
        "# Let's calculate in feet!\n",
        "0.01 * 5280 # number of feet in a mile\n",
        "# Ok, does it make sense to have a trip that was only 52 feet long?\n",
        "# One NYC block (north-south) is 264 feet. How many miles is this?\n",
        "264 / 5280\n",
        "# 0.05 miles! Let's make this the new cutoff.\n",
        "taxi = taxi[taxi[\"distance\"] > 0.05]\n",
        "taxi[\"distance\"].describe()"
      ],
      "execution_count": 111,
      "outputs": [
        {
          "output_type": "execute_result",
          "data": {
            "text/plain": [
              "52.800000000000004"
            ]
          },
          "metadata": {
            "tags": []
          },
          "execution_count": 111
        },
        {
          "output_type": "execute_result",
          "data": {
            "text/plain": [
              "0.05"
            ]
          },
          "metadata": {
            "tags": []
          },
          "execution_count": 111
        },
        {
          "output_type": "execute_result",
          "data": {
            "text/plain": [
              "count    759064.000000\n",
              "mean          2.761502\n",
              "std           2.884577\n",
              "min           0.060000\n",
              "25%           1.010000\n",
              "50%           1.780000\n",
              "75%           3.400000\n",
              "max         120.470000\n",
              "Name: distance, dtype: float64"
            ]
          },
          "metadata": {
            "tags": []
          },
          "execution_count": 111
        }
      ]
    },
    {
      "cell_type": "code",
      "metadata": {
        "id": "u8LpTmovlwvt",
        "colab_type": "code",
        "colab": {}
      },
      "source": [
        "# Cleaning the fare and tip fields\n",
        "# Multiple choice - which one of these WILL work?\n",
        "# A - taxi[\"fare, tip\"].describe()\n",
        "# B - taxi[\"fare\", \"tip\"].describe()\n",
        "# C - taxi[[\"fare\", \"tip\"]].describe()\n",
        "\n"
      ],
      "execution_count": 0,
      "outputs": []
    },
    {
      "cell_type": "code",
      "metadata": {
        "id": "eCxTv6k9l8Cm",
        "colab_type": "code",
        "outputId": "4bd19af0-bf39-420f-d92f-86b81e1664b3",
        "colab": {
          "base_uri": "https://localhost:8080/",
          "height": 297
        }
      },
      "source": [
        "taxi[[\"fare\", \"tip\"]].describe()"
      ],
      "execution_count": 0,
      "outputs": [
        {
          "output_type": "execute_result",
          "data": {
            "text/html": [
              "<div>\n",
              "<style scoped>\n",
              "    .dataframe tbody tr th:only-of-type {\n",
              "        vertical-align: middle;\n",
              "    }\n",
              "\n",
              "    .dataframe tbody tr th {\n",
              "        vertical-align: top;\n",
              "    }\n",
              "\n",
              "    .dataframe thead th {\n",
              "        text-align: right;\n",
              "    }\n",
              "</style>\n",
              "<table border=\"1\" class=\"dataframe\">\n",
              "  <thead>\n",
              "    <tr style=\"text-align: right;\">\n",
              "      <th></th>\n",
              "      <th>fare</th>\n",
              "      <th>tip</th>\n",
              "    </tr>\n",
              "  </thead>\n",
              "  <tbody>\n",
              "    <tr>\n",
              "      <th>count</th>\n",
              "      <td>759064.000000</td>\n",
              "      <td>759064.000000</td>\n",
              "    </tr>\n",
              "    <tr>\n",
              "      <th>mean</th>\n",
              "      <td>11.905920</td>\n",
              "      <td>1.044487</td>\n",
              "    </tr>\n",
              "    <tr>\n",
              "      <th>std</th>\n",
              "      <td>9.019236</td>\n",
              "      <td>1.792245</td>\n",
              "    </tr>\n",
              "    <tr>\n",
              "      <th>min</th>\n",
              "      <td>-150.000000</td>\n",
              "      <td>-1.200000</td>\n",
              "    </tr>\n",
              "    <tr>\n",
              "      <th>25%</th>\n",
              "      <td>6.000000</td>\n",
              "      <td>0.000000</td>\n",
              "    </tr>\n",
              "    <tr>\n",
              "      <th>50%</th>\n",
              "      <td>9.000000</td>\n",
              "      <td>0.000000</td>\n",
              "    </tr>\n",
              "    <tr>\n",
              "      <th>75%</th>\n",
              "      <td>14.500000</td>\n",
              "      <td>1.760000</td>\n",
              "    </tr>\n",
              "    <tr>\n",
              "      <th>max</th>\n",
              "      <td>628.000000</td>\n",
              "      <td>100.000000</td>\n",
              "    </tr>\n",
              "  </tbody>\n",
              "</table>\n",
              "</div>"
            ],
            "text/plain": [
              "                fare            tip\n",
              "count  759064.000000  759064.000000\n",
              "mean       11.905920       1.044487\n",
              "std         9.019236       1.792245\n",
              "min      -150.000000      -1.200000\n",
              "25%         6.000000       0.000000\n",
              "50%         9.000000       0.000000\n",
              "75%        14.500000       1.760000\n",
              "max       628.000000     100.000000"
            ]
          },
          "metadata": {
            "tags": []
          },
          "execution_count": 89
        }
      ]
    },
    {
      "cell_type": "code",
      "metadata": {
        "id": "hUHBLnr2mXxl",
        "colab_type": "code",
        "colab": {}
      },
      "source": [
        "# Drop negative fares since these look like refunds\n",
        "# In a transactions database, why would this not be a good idea?\n",
        "# Should the threshold be higher? What is the base fare for an NYC taxi?\n",
        "\n",
        "taxi = taxi[taxi[\"fare\"] > 2.5]"
      ],
      "execution_count": 0,
      "outputs": []
    },
    {
      "cell_type": "code",
      "metadata": {
        "id": "mBx4hQP6muvh",
        "colab_type": "code",
        "outputId": "e0ef6fc4-3a8c-4a2c-bd68-a411380fa0ad",
        "colab": {
          "base_uri": "https://localhost:8080/",
          "height": 282
        }
      },
      "source": [
        "taxi[\"fare\"].plot(kind = \"hist\")"
      ],
      "execution_count": 0,
      "outputs": [
        {
          "output_type": "execute_result",
          "data": {
            "text/plain": [
              "<matplotlib.axes._subplots.AxesSubplot at 0x7effeb477550>"
            ]
          },
          "metadata": {
            "tags": []
          },
          "execution_count": 91
        },
        {
          "output_type": "display_data",
          "data": {
            "image/png": "[encoded data removed]",
            "text/plain": [
              "<Figure size 432x288 with 1 Axes>"
            ]
          },
          "metadata": {
            "tags": []
          }
        }
      ]
    },
    {
      "cell_type": "code",
      "metadata": {
        "id": "rtFLbNANm2Lk",
        "colab_type": "code",
        "outputId": "5e23967d-9d99-4b24-edff-6185ba8b8556",
        "colab": {
          "base_uri": "https://localhost:8080/",
          "height": 282
        }
      },
      "source": [
        "# Dropping far-off fares because they do not seem to be representative\n",
        "taxi = taxi[taxi[\"fare\"] < 200]\n",
        "taxi[\"fare\"].plot(kind = \"hist\")"
      ],
      "execution_count": 113,
      "outputs": [
        {
          "output_type": "execute_result",
          "data": {
            "text/plain": [
              "<matplotlib.axes._subplots.AxesSubplot at 0x7eff07b81ba8>"
            ]
          },
          "metadata": {
            "tags": []
          },
          "execution_count": 113
        },
        {
          "output_type": "display_data",
          "data": {
            "image/png": "[encoded data removed]",
            "text/plain": [
              "<Figure size 432x288 with 1 Axes>"
            ]
          },
          "metadata": {
            "tags": []
          }
        }
      ]
    },
    {
      "cell_type": "code",
      "metadata": {
        "id": "idngofUznGHB",
        "colab_type": "code",
        "outputId": "5d32e8b4-aecd-48db-bb68-33ea16361e08",
        "colab": {
          "base_uri": "https://localhost:8080/",
          "height": 170
        }
      },
      "source": [
        "taxi[\"tip\"].describe()"
      ],
      "execution_count": 0,
      "outputs": [
        {
          "output_type": "execute_result",
          "data": {
            "text/plain": [
              "count    755084.000000\n",
              "mean          1.048845\n",
              "std           1.788275\n",
              "min           0.000000\n",
              "25%           0.000000\n",
              "50%           0.000000\n",
              "75%           1.800000\n",
              "max         100.000000\n",
              "Name: tip, dtype: float64"
            ]
          },
          "metadata": {
            "tags": []
          },
          "execution_count": 93
        }
      ]
    },
    {
      "cell_type": "code",
      "metadata": {
        "id": "gp5RD8CDnKHn",
        "colab_type": "code",
        "colab": {}
      },
      "source": [
        "# Tip seems to be okay - no negative values!"
      ],
      "execution_count": 0,
      "outputs": []
    },
    {
      "cell_type": "markdown",
      "metadata": {
        "id": "HaqyKzwNqa95",
        "colab_type": "text"
      },
      "source": [
        "Now for the fun part: let's ask questions!\n",
        "\n",
        "- Let's investigate the potential effects of increasing the number of people in a taxi. Does it affect how likely and how much someone is to tip? Does it relate to how far they travel?\n",
        "- I'm nosy, so I also want to know - how much do people generally tip?\n",
        "- Are there differences in volume of passengers during different times of day? \n",
        "- What about payment type - who is still using cash, and at what time of day? Are they groups?\n"
      ]
    },
    {
      "cell_type": "code",
      "metadata": {
        "id": "shfMSBV84zmw",
        "colab_type": "code",
        "outputId": "df831522-8ad2-4c5e-ebf7-ff65d05a6cca",
        "colab": {
          "base_uri": "https://localhost:8080/",
          "height": 434
        }
      },
      "source": [
        "# Creating a function and applying it to a pandas series\n",
        "def pass_sort(row):\n",
        "  if row['passengers'] > 3:\n",
        "      return 'Four or more'\n",
        "  if row['passengers'] > 1:\n",
        "      return 'Two to three'\n",
        "  if row['passengers'] == 1:\n",
        "      return 'One'\n",
        "\n",
        "taxi[\"passenger_type\"] = taxi.apply(lambda row: pass_sort(row), axis = 1)\n",
        "\n",
        "# Use column manipulation to create new columns\n",
        "taxi[\"tip_pct\"] = taxi['tip'] / taxi['fare']\n",
        "taxi[\"pickup_time\"] = taxi[\"pickup\"].dt.time\n",
        "taxi.head()\n",
        "\n",
        "# Reshaping data\n",
        "taxi_pivot = taxi.pivot(columns = \"passenger_type\", values = [\"pickup_time\", \"tip_pct\"])\n",
        "\n"
      ],
      "execution_count": 114,
      "outputs": [
        {
          "output_type": "execute_result",
          "data": {
            "text/html": [
              "<div>\n",
              "<style scoped>\n",
              "    .dataframe tbody tr th:only-of-type {\n",
              "        vertical-align: middle;\n",
              "    }\n",
              "\n",
              "    .dataframe tbody tr th {\n",
              "        vertical-align: top;\n",
              "    }\n",
              "\n",
              "    .dataframe thead th {\n",
              "        text-align: right;\n",
              "    }\n",
              "</style>\n",
              "<table border=\"1\" class=\"dataframe\">\n",
              "  <thead>\n",
              "    <tr style=\"text-align: right;\">\n",
              "      <th></th>\n",
              "      <th>pickup</th>\n",
              "      <th>dropoff</th>\n",
              "      <th>passengers</th>\n",
              "      <th>distance</th>\n",
              "      <th>fare</th>\n",
              "      <th>tip</th>\n",
              "      <th>total</th>\n",
              "      <th>payment_type</th>\n",
              "      <th>payment</th>\n",
              "      <th>pickup_year</th>\n",
              "      <th>passenger_type</th>\n",
              "      <th>tip_pct</th>\n",
              "      <th>pickup_time</th>\n",
              "    </tr>\n",
              "  </thead>\n",
              "  <tbody>\n",
              "    <tr>\n",
              "      <th>1</th>\n",
              "      <td>2018-02-01 00:58:28</td>\n",
              "      <td>2018-02-01 01:05:35</td>\n",
              "      <td>5</td>\n",
              "      <td>1.60</td>\n",
              "      <td>7.5</td>\n",
              "      <td>0.88</td>\n",
              "      <td>9.68</td>\n",
              "      <td>1</td>\n",
              "      <td>Credit Card</td>\n",
              "      <td>2018</td>\n",
              "      <td>Four or more</td>\n",
              "      <td>0.117333</td>\n",
              "      <td>00:58:28</td>\n",
              "    </tr>\n",
              "    <tr>\n",
              "      <th>2</th>\n",
              "      <td>2018-02-01 00:56:05</td>\n",
              "      <td>2018-02-01 01:18:54</td>\n",
              "      <td>1</td>\n",
              "      <td>9.60</td>\n",
              "      <td>28.5</td>\n",
              "      <td>5.96</td>\n",
              "      <td>35.76</td>\n",
              "      <td>1</td>\n",
              "      <td>Credit Card</td>\n",
              "      <td>2018</td>\n",
              "      <td>One</td>\n",
              "      <td>0.209123</td>\n",
              "      <td>00:56:05</td>\n",
              "    </tr>\n",
              "    <tr>\n",
              "      <th>3</th>\n",
              "      <td>2018-02-01 00:12:40</td>\n",
              "      <td>2018-02-01 00:15:50</td>\n",
              "      <td>1</td>\n",
              "      <td>0.73</td>\n",
              "      <td>4.5</td>\n",
              "      <td>0.00</td>\n",
              "      <td>5.80</td>\n",
              "      <td>2</td>\n",
              "      <td>Cash</td>\n",
              "      <td>2018</td>\n",
              "      <td>One</td>\n",
              "      <td>0.000000</td>\n",
              "      <td>00:12:40</td>\n",
              "    </tr>\n",
              "    <tr>\n",
              "      <th>4</th>\n",
              "      <td>2018-02-01 00:45:18</td>\n",
              "      <td>2018-02-01 00:51:56</td>\n",
              "      <td>2</td>\n",
              "      <td>1.87</td>\n",
              "      <td>8.0</td>\n",
              "      <td>0.00</td>\n",
              "      <td>9.30</td>\n",
              "      <td>2</td>\n",
              "      <td>Cash</td>\n",
              "      <td>2018</td>\n",
              "      <td>Two to three</td>\n",
              "      <td>0.000000</td>\n",
              "      <td>00:45:18</td>\n",
              "    </tr>\n",
              "    <tr>\n",
              "      <th>5</th>\n",
              "      <td>2018-02-01 00:30:57</td>\n",
              "      <td>2018-02-01 00:52:23</td>\n",
              "      <td>2</td>\n",
              "      <td>5.69</td>\n",
              "      <td>20.0</td>\n",
              "      <td>0.00</td>\n",
              "      <td>21.30</td>\n",
              "      <td>2</td>\n",
              "      <td>Cash</td>\n",
              "      <td>2018</td>\n",
              "      <td>Two to three</td>\n",
              "      <td>0.000000</td>\n",
              "      <td>00:30:57</td>\n",
              "    </tr>\n",
              "  </tbody>\n",
              "</table>\n",
              "</div>"
            ],
            "text/plain": [
              "               pickup             dropoff  ...   tip_pct  pickup_time\n",
              "1 2018-02-01 00:58:28 2018-02-01 01:05:35  ...  0.117333     00:58:28\n",
              "2 2018-02-01 00:56:05 2018-02-01 01:18:54  ...  0.209123     00:56:05\n",
              "3 2018-02-01 00:12:40 2018-02-01 00:15:50  ...  0.000000     00:12:40\n",
              "4 2018-02-01 00:45:18 2018-02-01 00:51:56  ...  0.000000     00:45:18\n",
              "5 2018-02-01 00:30:57 2018-02-01 00:52:23  ...  0.000000     00:30:57\n",
              "\n",
              "[5 rows x 13 columns]"
            ]
          },
          "metadata": {
            "tags": []
          },
          "execution_count": 114
        }
      ]
    },
    {
      "cell_type": "code",
      "metadata": {
        "id": "X-tU1rezsXEr",
        "colab_type": "code",
        "outputId": "58c5f7c7-6f37-4396-f8a8-b74b480d64a0",
        "colab": {
          "base_uri": "https://localhost:8080/",
          "height": 204
        }
      },
      "source": [
        "# Can also use transform to add a column (like R mutate)\n",
        "taxi[\"rec\"] = 1\n",
        "taxi[\"medtippct\"] = taxi.groupby(\"rec\")[\"tip_pct\"].transform('median')\n",
        "# Transform must have a grouping variable\n",
        "\n",
        "# And can also use transform and apply to add a column and make a comparison \n",
        "# at the same time\n",
        "taxi[\"above_medtippct\"] = taxi[\"tip_pct\"].transform(lambda x: x > x.median())\n",
        "\n",
        "taxi[[\"tip_pct\", \"medtippct\", \"above_medtippct\"]].head()\n",
        "\n"
      ],
      "execution_count": 115,
      "outputs": [
        {
          "output_type": "execute_result",
          "data": {
            "text/html": [
              "<div>\n",
              "<style scoped>\n",
              "    .dataframe tbody tr th:only-of-type {\n",
              "        vertical-align: middle;\n",
              "    }\n",
              "\n",
              "    .dataframe tbody tr th {\n",
              "        vertical-align: top;\n",
              "    }\n",
              "\n",
              "    .dataframe thead th {\n",
              "        text-align: right;\n",
              "    }\n",
              "</style>\n",
              "<table border=\"1\" class=\"dataframe\">\n",
              "  <thead>\n",
              "    <tr style=\"text-align: right;\">\n",
              "      <th></th>\n",
              "      <th>tip_pct</th>\n",
              "      <th>medtippct</th>\n",
              "      <th>above_medtippct</th>\n",
              "    </tr>\n",
              "  </thead>\n",
              "  <tbody>\n",
              "    <tr>\n",
              "      <th>1</th>\n",
              "      <td>0.117333</td>\n",
              "      <td>0.0</td>\n",
              "      <td>True</td>\n",
              "    </tr>\n",
              "    <tr>\n",
              "      <th>2</th>\n",
              "      <td>0.209123</td>\n",
              "      <td>0.0</td>\n",
              "      <td>True</td>\n",
              "    </tr>\n",
              "    <tr>\n",
              "      <th>3</th>\n",
              "      <td>0.000000</td>\n",
              "      <td>0.0</td>\n",
              "      <td>False</td>\n",
              "    </tr>\n",
              "    <tr>\n",
              "      <th>4</th>\n",
              "      <td>0.000000</td>\n",
              "      <td>0.0</td>\n",
              "      <td>False</td>\n",
              "    </tr>\n",
              "    <tr>\n",
              "      <th>5</th>\n",
              "      <td>0.000000</td>\n",
              "      <td>0.0</td>\n",
              "      <td>False</td>\n",
              "    </tr>\n",
              "  </tbody>\n",
              "</table>\n",
              "</div>"
            ],
            "text/plain": [
              "    tip_pct  medtippct  above_medtippct\n",
              "1  0.117333        0.0             True\n",
              "2  0.209123        0.0             True\n",
              "3  0.000000        0.0            False\n",
              "4  0.000000        0.0            False\n",
              "5  0.000000        0.0            False"
            ]
          },
          "metadata": {
            "tags": []
          },
          "execution_count": 115
        }
      ]
    },
    {
      "cell_type": "code",
      "metadata": {
        "id": "DrWEygA1qrNy",
        "colab_type": "code",
        "outputId": "e78e4dc5-f531-4be7-e09d-bf5c20580191",
        "colab": {
          "base_uri": "https://localhost:8080/",
          "height": 235
        }
      },
      "source": [
        "taxi_pivot.head()"
      ],
      "execution_count": 116,
      "outputs": [
        {
          "output_type": "execute_result",
          "data": {
            "text/html": [
              "<div>\n",
              "<style scoped>\n",
              "    .dataframe tbody tr th:only-of-type {\n",
              "        vertical-align: middle;\n",
              "    }\n",
              "\n",
              "    .dataframe tbody tr th {\n",
              "        vertical-align: top;\n",
              "    }\n",
              "\n",
              "    .dataframe thead tr th {\n",
              "        text-align: left;\n",
              "    }\n",
              "</style>\n",
              "<table border=\"1\" class=\"dataframe\">\n",
              "  <thead>\n",
              "    <tr>\n",
              "      <th></th>\n",
              "      <th colspan=\"3\" halign=\"left\">pickup_time</th>\n",
              "      <th colspan=\"3\" halign=\"left\">tip_pct</th>\n",
              "    </tr>\n",
              "    <tr>\n",
              "      <th>passenger_type</th>\n",
              "      <th>Four or more</th>\n",
              "      <th>One</th>\n",
              "      <th>Two to three</th>\n",
              "      <th>Four or more</th>\n",
              "      <th>One</th>\n",
              "      <th>Two to three</th>\n",
              "    </tr>\n",
              "  </thead>\n",
              "  <tbody>\n",
              "    <tr>\n",
              "      <th>1</th>\n",
              "      <td>00:58:28</td>\n",
              "      <td>NaN</td>\n",
              "      <td>NaN</td>\n",
              "      <td>0.117333</td>\n",
              "      <td>NaN</td>\n",
              "      <td>NaN</td>\n",
              "    </tr>\n",
              "    <tr>\n",
              "      <th>2</th>\n",
              "      <td>NaN</td>\n",
              "      <td>00:56:05</td>\n",
              "      <td>NaN</td>\n",
              "      <td>NaN</td>\n",
              "      <td>0.209123</td>\n",
              "      <td>NaN</td>\n",
              "    </tr>\n",
              "    <tr>\n",
              "      <th>3</th>\n",
              "      <td>NaN</td>\n",
              "      <td>00:12:40</td>\n",
              "      <td>NaN</td>\n",
              "      <td>NaN</td>\n",
              "      <td>0</td>\n",
              "      <td>NaN</td>\n",
              "    </tr>\n",
              "    <tr>\n",
              "      <th>4</th>\n",
              "      <td>NaN</td>\n",
              "      <td>NaN</td>\n",
              "      <td>00:45:18</td>\n",
              "      <td>NaN</td>\n",
              "      <td>NaN</td>\n",
              "      <td>0</td>\n",
              "    </tr>\n",
              "    <tr>\n",
              "      <th>5</th>\n",
              "      <td>NaN</td>\n",
              "      <td>NaN</td>\n",
              "      <td>00:30:57</td>\n",
              "      <td>NaN</td>\n",
              "      <td>NaN</td>\n",
              "      <td>0</td>\n",
              "    </tr>\n",
              "  </tbody>\n",
              "</table>\n",
              "</div>"
            ],
            "text/plain": [
              "                pickup_time            ...   tip_pct             \n",
              "passenger_type Four or more       One  ...       One Two to three\n",
              "1                  00:58:28       NaN  ...       NaN          NaN\n",
              "2                       NaN  00:56:05  ...  0.209123          NaN\n",
              "3                       NaN  00:12:40  ...         0          NaN\n",
              "4                       NaN       NaN  ...       NaN            0\n",
              "5                       NaN       NaN  ...       NaN            0\n",
              "\n",
              "[5 rows x 6 columns]"
            ]
          },
          "metadata": {
            "tags": []
          },
          "execution_count": 116
        }
      ]
    },
    {
      "cell_type": "code",
      "metadata": {
        "id": "vNUOAxLeHA46",
        "colab_type": "code",
        "colab": {
          "base_uri": "https://localhost:8080/",
          "height": 170
        },
        "outputId": "c937137d-a19d-4274-c0a4-963a567504b5"
      },
      "source": [
        "# Collapse to find average pickup time and tip_pct\n",
        "taxi_pivot[\"tip_pct\"].aggregate(\"median\")\n",
        "taxi_pivot[\"tip_pct\"].aggregate(\"mean\")"
      ],
      "execution_count": 121,
      "outputs": [
        {
          "output_type": "execute_result",
          "data": {
            "text/plain": [
              "passenger_type\n",
              "Four or more    0.0\n",
              "One             0.0\n",
              "Two to three    0.0\n",
              "dtype: float64"
            ]
          },
          "metadata": {
            "tags": []
          },
          "execution_count": 121
        },
        {
          "output_type": "execute_result",
          "data": {
            "text/plain": [
              "passenger_type\n",
              "Four or more    0.095923\n",
              "One             0.092599\n",
              "Two to three    0.092067\n",
              "dtype: float64"
            ]
          },
          "metadata": {
            "tags": []
          },
          "execution_count": 121
        }
      ]
    },
    {
      "cell_type": "code",
      "metadata": {
        "id": "_UheFr9dIJUu",
        "colab_type": "code",
        "colab": {
          "base_uri": "https://localhost:8080/",
          "height": 354
        },
        "outputId": "003e5c46-cf79-4a42-c78a-dab5c51cc044"
      },
      "source": [
        "taxi_pivot[\"tip_pct\"].aggregate(\"mean\").plot(kind = \"bar\")"
      ],
      "execution_count": 122,
      "outputs": [
        {
          "output_type": "execute_result",
          "data": {
            "text/plain": [
              "<matplotlib.axes._subplots.AxesSubplot at 0x7effec779be0>"
            ]
          },
          "metadata": {
            "tags": []
          },
          "execution_count": 122
        },
        {
          "output_type": "display_data",
          "data": {
            "image/png": "[encoded data removed]",
            "text/plain": [
              "<Figure size 432x288 with 1 Axes>"
            ]
          },
          "metadata": {
            "tags": []
          }
        }
      ]
    },
    {
      "cell_type": "code",
      "metadata": {
        "id": "zU4XjMfx85U3",
        "colab_type": "code",
        "outputId": "d22c1568-55ed-47a3-8ae3-ab200c3ebfe0",
        "colab": {
          "base_uri": "https://localhost:8080/",
          "height": 1000
        }
      },
      "source": [
        "# Visualize tip percent and distance by passenger number\n",
        "\n",
        "plt.scatter(x = taxi[\"passengers\"], y = taxi[\"distance\"])\n",
        "plt.title('Passengers vs distance')\n",
        "plt.xlabel('Passenger number')\n",
        "plt.ylabel('Distance (mi)')\n",
        "plt.show()\n",
        "\n",
        "taxi.groupby(\"passengers\")[\"distance\"].median().plot(kind = \"bar\")\n",
        "plt.show()\n",
        "\n",
        "plt.scatter(x = taxi[\"passengers\"], y = taxi[\"tip_pct\"])\n",
        "plt.show()\n",
        "\n",
        "taxi.groupby(\"passengers\")[\"tip_pct\"].aggregate(\"median\").plot(kind = \"bar\")\n",
        "plt.show()\n",
        "\n",
        "taxi.groupby(\"passengers\")[\"tip_pct\"].aggregate(\"mean\").plot(kind = \"bar\")\n",
        "plt.show()"
      ],
      "execution_count": 125,
      "outputs": [
        {
          "output_type": "execute_result",
          "data": {
            "text/plain": [
              "<matplotlib.collections.PathCollection at 0x7f0013b407f0>"
            ]
          },
          "metadata": {
            "tags": []
          },
          "execution_count": 125
        },
        {
          "output_type": "execute_result",
          "data": {
            "text/plain": [
              "Text(0.5, 1.0, 'Passengers vs distance')"
            ]
          },
          "metadata": {
            "tags": []
          },
          "execution_count": 125
        },
        {
          "output_type": "execute_result",
          "data": {
            "text/plain": [
              "Text(0.5, 0, 'Passenger number')"
            ]
          },
          "metadata": {
            "tags": []
          },
          "execution_count": 125
        },
        {
          "output_type": "execute_result",
          "data": {
            "text/plain": [
              "Text(0, 0.5, 'Distance (mi)')"
            ]
          },
          "metadata": {
            "tags": []
          },
          "execution_count": 125
        },
        {
          "output_type": "display_data",
          "data": {
            "image/png": "[encoded data removed]",
            "text/plain": [
              "<Figure size 432x288 with 1 Axes>"
            ]
          },
          "metadata": {
            "tags": []
          }
        },
        {
          "output_type": "execute_result",
          "data": {
            "text/plain": [
              "<matplotlib.axes._subplots.AxesSubplot at 0x7efff4f2a7f0>"
            ]
          },
          "metadata": {
            "tags": []
          },
          "execution_count": 125
        },
        {
          "output_type": "display_data",
          "data": {
            "image/png": "[encoded data removed]",
            "text/plain": [
              "<Figure size 432x288 with 1 Axes>"
            ]
          },
          "metadata": {
            "tags": []
          }
        },
        {
          "output_type": "execute_result",
          "data": {
            "text/plain": [
              "<matplotlib.collections.PathCollection at 0x7effec698a58>"
            ]
          },
          "metadata": {
            "tags": []
          },
          "execution_count": 125
        },
        {
          "output_type": "display_data",
          "data": {
            "image/png": "[encoded data removed]",
            "text/plain": [
              "<Figure size 432x288 with 1 Axes>"
            ]
          },
          "metadata": {
            "tags": []
          }
        },
        {
          "output_type": "execute_result",
          "data": {
            "text/plain": [
              "<matplotlib.axes._subplots.AxesSubplot at 0x7effec698fd0>"
            ]
          },
          "metadata": {
            "tags": []
          },
          "execution_count": 125
        },
        {
          "output_type": "display_data",
          "data": {
            "image/png": "[encoded data removed]",
            "text/plain": [
              "<Figure size 432x288 with 1 Axes>"
            ]
          },
          "metadata": {
            "tags": []
          }
        },
        {
          "output_type": "execute_result",
          "data": {
            "text/plain": [
              "<matplotlib.axes._subplots.AxesSubplot at 0x7f00137629b0>"
            ]
          },
          "metadata": {
            "tags": []
          },
          "execution_count": 125
        },
        {
          "output_type": "display_data",
          "data": {
            "image/png": "[encoded data removed]",
            "text/plain": [
              "<Figure size 432x288 with 1 Axes>"
            ]
          },
          "metadata": {
            "tags": []
          }
        }
      ]
    },
    {
      "cell_type": "code",
      "metadata": {
        "id": "NoQeqEvaxaca",
        "colab_type": "code",
        "outputId": "08af9b87-8e2a-42c3-908a-ea052dc6e1af",
        "colab": {
          "base_uri": "https://localhost:8080/",
          "height": 85
        }
      },
      "source": [
        "# Import holiday data for merge\n",
        "url = \"https://raw.githubusercontent.com/columbia-university-libraries-data-club/intro-to-data/master/usholidays.csv\"\n",
        "\n",
        "holidays = pd.read_csv(url, parse_dates=[\"Date\"])\n",
        "holidays.dtypes"
      ],
      "execution_count": 126,
      "outputs": [
        {
          "output_type": "execute_result",
          "data": {
            "text/plain": [
              "Unnamed: 0             int64\n",
              "Date          datetime64[ns]\n",
              "Holiday               object\n",
              "dtype: object"
            ]
          },
          "metadata": {
            "tags": []
          },
          "execution_count": 126
        }
      ]
    },
    {
      "cell_type": "code",
      "metadata": {
        "id": "IqtzW9RsLciu",
        "colab_type": "code",
        "colab": {
          "base_uri": "https://localhost:8080/",
          "height": 204
        },
        "outputId": "b156cf2d-3598-42b6-b66f-a47629cb24be"
      },
      "source": [
        "holidays.head()"
      ],
      "execution_count": 127,
      "outputs": [
        {
          "output_type": "execute_result",
          "data": {
            "text/html": [
              "<div>\n",
              "<style scoped>\n",
              "    .dataframe tbody tr th:only-of-type {\n",
              "        vertical-align: middle;\n",
              "    }\n",
              "\n",
              "    .dataframe tbody tr th {\n",
              "        vertical-align: top;\n",
              "    }\n",
              "\n",
              "    .dataframe thead th {\n",
              "        text-align: right;\n",
              "    }\n",
              "</style>\n",
              "<table border=\"1\" class=\"dataframe\">\n",
              "  <thead>\n",
              "    <tr style=\"text-align: right;\">\n",
              "      <th></th>\n",
              "      <th>Unnamed: 0</th>\n",
              "      <th>Date</th>\n",
              "      <th>Holiday</th>\n",
              "    </tr>\n",
              "  </thead>\n",
              "  <tbody>\n",
              "    <tr>\n",
              "      <th>0</th>\n",
              "      <td>0</td>\n",
              "      <td>2010-12-31</td>\n",
              "      <td>New Year's Day</td>\n",
              "    </tr>\n",
              "    <tr>\n",
              "      <th>1</th>\n",
              "      <td>1</td>\n",
              "      <td>2011-01-17</td>\n",
              "      <td>Birthday of Martin Luther King, Jr.</td>\n",
              "    </tr>\n",
              "    <tr>\n",
              "      <th>2</th>\n",
              "      <td>2</td>\n",
              "      <td>2011-02-21</td>\n",
              "      <td>Washington's Birthday</td>\n",
              "    </tr>\n",
              "    <tr>\n",
              "      <th>3</th>\n",
              "      <td>3</td>\n",
              "      <td>2011-05-30</td>\n",
              "      <td>Memorial Day</td>\n",
              "    </tr>\n",
              "    <tr>\n",
              "      <th>4</th>\n",
              "      <td>4</td>\n",
              "      <td>2011-07-04</td>\n",
              "      <td>Independence Day</td>\n",
              "    </tr>\n",
              "  </tbody>\n",
              "</table>\n",
              "</div>"
            ],
            "text/plain": [
              "   Unnamed: 0       Date                              Holiday\n",
              "0           0 2010-12-31                       New Year's Day\n",
              "1           1 2011-01-17  Birthday of Martin Luther King, Jr.\n",
              "2           2 2011-02-21                Washington's Birthday\n",
              "3           3 2011-05-30                         Memorial Day\n",
              "4           4 2011-07-04                     Independence Day"
            ]
          },
          "metadata": {
            "tags": []
          },
          "execution_count": 127
        }
      ]
    },
    {
      "cell_type": "code",
      "metadata": {
        "id": "ZuEqMrJvN9My",
        "colab_type": "code",
        "colab": {
          "base_uri": "https://localhost:8080/",
          "height": 153
        },
        "outputId": "95883629-dab3-4ed9-9862-3b51393c4b7e"
      },
      "source": [
        "# Clean up taxis dataset to create date (not datetime) variable to merge on\n",
        "taxi[\"pickup_month\"] = taxi[\"pickup\"].dt.month\n",
        "taxi.groupby(\"pickup_month\")[\"pickup_month\"].count()"
      ],
      "execution_count": 139,
      "outputs": [
        {
          "output_type": "execute_result",
          "data": {
            "text/plain": [
              "pickup_month\n",
              "1         14\n",
              "2     754978\n",
              "3         74\n",
              "4          8\n",
              "11         7\n",
              "12         3\n",
              "Name: pickup_month, dtype: int64"
            ]
          },
          "metadata": {
            "tags": []
          },
          "execution_count": 139
        }
      ]
    },
    {
      "cell_type": "code",
      "metadata": {
        "id": "u_OSUFHOM237",
        "colab_type": "code",
        "colab": {
          "base_uri": "https://localhost:8080/",
          "height": 952
        },
        "outputId": "5a70ab43-26c7-44e4-8161-d9fbe4291143"
      },
      "source": [
        "taxi[\"pickup_date\"] = taxi[\"pickup\"].dt.date\n",
        "taxi.groupby(\"pickup_date\")[\"pickup_date\"].count()"
      ],
      "execution_count": 141,
      "outputs": [
        {
          "output_type": "execute_result",
          "data": {
            "text/plain": [
              "pickup_date\n",
              "2018-01-31       14\n",
              "2018-02-01    27545\n",
              "2018-02-02    33337\n",
              "2018-02-03    30674\n",
              "2018-02-04    24825\n",
              "2018-02-05    25189\n",
              "2018-02-06    25225\n",
              "2018-02-07    26125\n",
              "2018-02-08    27993\n",
              "2018-02-09    30707\n",
              "2018-02-10    30134\n",
              "2018-02-11    22783\n",
              "2018-02-12    24370\n",
              "2018-02-13    25265\n",
              "2018-02-14    28799\n",
              "2018-02-15    27630\n",
              "2018-02-16    30398\n",
              "2018-02-17    30336\n",
              "2018-02-18    23207\n",
              "2018-02-19    22431\n",
              "2018-02-20    22817\n",
              "2018-02-21    25174\n",
              "2018-02-22    28176\n",
              "2018-02-23    30317\n",
              "2018-02-24    31031\n",
              "2018-02-25    24985\n",
              "2018-02-26    24316\n",
              "2018-02-27    24793\n",
              "2018-02-28    26396\n",
              "2018-03-01       24\n",
              "2018-03-02        3\n",
              "2018-03-03        3\n",
              "2018-03-04        2\n",
              "2018-03-05        3\n",
              "2018-03-08        4\n",
              "2018-03-09        3\n",
              "2018-03-10        2\n",
              "2018-03-11        4\n",
              "2018-03-12        2\n",
              "2018-03-13        1\n",
              "2018-03-15        2\n",
              "2018-03-16        3\n",
              "2018-03-17        4\n",
              "2018-03-18        3\n",
              "2018-03-19        2\n",
              "2018-03-20        3\n",
              "2018-03-23        2\n",
              "2018-03-30        4\n",
              "2018-04-07        1\n",
              "2018-04-09        2\n",
              "2018-04-10        5\n",
              "2018-11-29        7\n",
              "2018-12-02        3\n",
              "Name: pickup_date, dtype: int64"
            ]
          },
          "metadata": {
            "tags": []
          },
          "execution_count": 141
        }
      ]
    },
    {
      "cell_type": "code",
      "metadata": {
        "id": "bC7QY2I6PBYZ",
        "colab_type": "code",
        "colab": {
          "base_uri": "https://localhost:8080/",
          "height": 340
        },
        "outputId": "71459ecd-4ec9-46da-fc0d-7388484f0396"
      },
      "source": [
        "taxi.dtypes"
      ],
      "execution_count": 144,
      "outputs": [
        {
          "output_type": "execute_result",
          "data": {
            "text/plain": [
              "pickup             datetime64[ns]\n",
              "dropoff            datetime64[ns]\n",
              "passengers                  int64\n",
              "distance                  float64\n",
              "fare                      float64\n",
              "tip                       float64\n",
              "total                     float64\n",
              "payment_type                int64\n",
              "payment                    object\n",
              "pickup_year                 int64\n",
              "passenger_type             object\n",
              "tip_pct                   float64\n",
              "pickup_time                object\n",
              "rec                         int64\n",
              "medtippct                 float64\n",
              "above_medtippct              bool\n",
              "pickup_month                int64\n",
              "pickup_date                object\n",
              "dtype: object"
            ]
          },
          "metadata": {
            "tags": []
          },
          "execution_count": 144
        }
      ]
    },
    {
      "cell_type": "code",
      "metadata": {
        "id": "YFUX24SASOdG",
        "colab_type": "code",
        "colab": {}
      },
      "source": [
        "import datetime as datetime"
      ],
      "execution_count": 0,
      "outputs": []
    },
    {
      "cell_type": "code",
      "metadata": {
        "id": "tvntB_i5g4Ao",
        "colab_type": "code",
        "colab": {}
      },
      "source": [
        "taxi[\"pickup_date_d\"] = datetime.datetime.date(taxi[\"pickup\"])"
      ],
      "execution_count": 0,
      "outputs": []
    },
    {
      "cell_type": "code",
      "metadata": {
        "id": "kjmLHJNJLhy9",
        "colab_type": "code",
        "colab": {}
      },
      "source": [
        "# Merge with taxi dataset\n",
        "taxihol = pd.merge(taxi, holidays, how = \"left\", left_on = \"pickup_date\", right_on = \"Date\")"
      ],
      "execution_count": 0,
      "outputs": []
    },
    {
      "cell_type": "code",
      "metadata": {
        "id": "5zfEfuo1L90W",
        "colab_type": "code",
        "colab": {
          "base_uri": "https://localhost:8080/",
          "height": 165
        },
        "outputId": "b0b590b5-0828-4a46-e0ed-d8309a837b44"
      },
      "source": [
        "taxihol[taxihol[\"Holiday\"].isna() == False].head()"
      ],
      "execution_count": 133,
      "outputs": [
        {
          "output_type": "execute_result",
          "data": {
            "text/html": [
              "<div>\n",
              "<style scoped>\n",
              "    .dataframe tbody tr th:only-of-type {\n",
              "        vertical-align: middle;\n",
              "    }\n",
              "\n",
              "    .dataframe tbody tr th {\n",
              "        vertical-align: top;\n",
              "    }\n",
              "\n",
              "    .dataframe thead th {\n",
              "        text-align: right;\n",
              "    }\n",
              "</style>\n",
              "<table border=\"1\" class=\"dataframe\">\n",
              "  <thead>\n",
              "    <tr style=\"text-align: right;\">\n",
              "      <th></th>\n",
              "      <th>pickup</th>\n",
              "      <th>dropoff</th>\n",
              "      <th>passengers</th>\n",
              "      <th>distance</th>\n",
              "      <th>fare</th>\n",
              "      <th>tip</th>\n",
              "      <th>total</th>\n",
              "      <th>payment_type</th>\n",
              "      <th>payment</th>\n",
              "      <th>pickup_year</th>\n",
              "      <th>passenger_type</th>\n",
              "      <th>tip_pct</th>\n",
              "      <th>pickup_time</th>\n",
              "      <th>rec</th>\n",
              "      <th>medtippct</th>\n",
              "      <th>above_medtippct</th>\n",
              "      <th>Unnamed: 0</th>\n",
              "      <th>Date</th>\n",
              "      <th>Holiday</th>\n",
              "    </tr>\n",
              "  </thead>\n",
              "  <tbody>\n",
              "  </tbody>\n",
              "</table>\n",
              "</div>"
            ],
            "text/plain": [
              "Empty DataFrame\n",
              "Columns: [pickup, dropoff, passengers, distance, fare, tip, total, payment_type, payment, pickup_year, passenger_type, tip_pct, pickup_time, rec, medtippct, above_medtippct, Unnamed: 0, Date, Holiday]\n",
              "Index: []"
            ]
          },
          "metadata": {
            "tags": []
          },
          "execution_count": 133
        }
      ]
    },
    {
      "cell_type": "code",
      "metadata": {
        "id": "9JYg-z0MOj1l",
        "colab_type": "code",
        "colab": {}
      },
      "source": [
        "taxi = taxi[taxi[\"pickup_month\"] == 2]"
      ],
      "execution_count": 0,
      "outputs": []
    },
    {
      "cell_type": "markdown",
      "metadata": {
        "id": "eZy-WmCZeMNb",
        "colab_type": "text"
      },
      "source": [
        "### **Next time: Statistical analysis and visualization!**\n",
        "### *(with pandas and matplotlib)*\n",
        "***\n",
        "Topics to be covered:\n",
        "1. Correlation, regression (only do two simple examples, and then point to cheat sheet with rest of potential tests + packages) - make sure to point out that had they not cleaned the data results would have been quite different\n",
        "2. Plotting (two simple examples, then show cheat sheet with all different possiblities)"
      ]
    },
    {
      "cell_type": "markdown",
      "metadata": {
        "id": "YSyyHUN-CV4d",
        "colab_type": "text"
      },
      "source": [
        "Now that we've cleaned up our data, let's ask a few questions! What are some variables that might be related?\n",
        "- Time of day and number of pickups\n",
        "- Time of day and tip percent\n",
        "- Passenger number and tip percent\n",
        "- Passenger number and distance\n",
        "\n",
        "To answer questions about relationships, there are a few easy methods we can use:\n",
        "- visualization\n",
        "- correlation coefficients\n",
        "- t-tests\n",
        "\n",
        "You can do statistical testing quite easily using statsmodel!"
      ]
    },
    {
      "cell_type": "code",
      "metadata": {
        "id": "nSqQR4ktCUL_",
        "colab_type": "code",
        "colab": {}
      },
      "source": [
        ""
      ],
      "execution_count": 0,
      "outputs": []
    },
    {
      "cell_type": "markdown",
      "metadata": {
        "id": "dCvR5GlNlitr",
        "colab_type": "text"
      },
      "source": [
        "## **Where to find data**\n",
        "### *(using CU Libraries, Google datasets, US government agencies, and many more)*\n",
        "1. Types of data: tabular (survey, transaction, summary, etc.), geospatial, text\n",
        "2. List of potential sources for each of the above\n",
        "3. Tools to collect your own data (mTurk or qualtrics for survey data, scraping for text data)"
      ]
    },
    {
      "cell_type": "markdown",
      "metadata": {
        "id": "aREDh9i6mXhT",
        "colab_type": "text"
      },
      "source": [
        "## **Topics not covered today**\n",
        "***\n",
        "A list of all the topics that you can dive deeper into (asterisks are by the ones that are most important):\n",
        "- github*\n",
        "- statistics*\n",
        "- communication / translation*\n",
        "- visualization*\n",
        "- NLP\n",
        "- ML\n",
        "- Cloud computing + access\n",
        "- geospatial data\n",
        "- applications"
      ]
    }
  ]
}